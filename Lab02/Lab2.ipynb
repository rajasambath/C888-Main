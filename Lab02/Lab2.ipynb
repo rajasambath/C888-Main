{
 "cells": [
  {
   "cell_type": "markdown",
   "metadata": {
    "id": "nCi_99yMYIb1"
   },
   "source": [
    "In this notebook you'll create your own bootstrap function following the bootstrap algorithm (check the lecture notes!)"
   ]
  },
  {
   "cell_type": "code",
   "execution_count": 30,
   "metadata": {
    "id": "LY5zujI2YC37",
    "pycharm": {
     "name": "#%%# Imports\n"
    }
   },
   "outputs": [],
   "source": [
    "import matplotlib\n",
    "import pandas as pd\n",
    "import seaborn as sns\n",
    "import numpy as np\n",
    "\n"
   ]
  },
  {
   "cell_type": "code",
   "execution_count": 40,
   "metadata": {
    "id": "Eqkwj4SMY38t"
   },
   "outputs": [],
   "source": [
    "# Load the data\n",
    "df = pd.read_csv('https://raw.githubusercontent.com/albanda/CE888/master/lab2%20-%20bootstrap/customers.csv')\n",
    "data = df.values.T[1]"
   ]
  },
  {
   "cell_type": "code",
   "execution_count": 41,
   "metadata": {
    "id": "Gxvc_bScYC4H",
    "pycharm": {
     "name": "#%%\n"
    }
   },
   "outputs": [],
   "source": [
    "# Checking the notes from the lecture, create here your own bootstrap function:\n",
    "# 1. Sample from the input array x to create an array of samples of shape (n_bootstraps, sample_size)\n",
    "# Hint: Check the function random.choice() on Numpy\n",
    "# 2. Calculate and save the mean of the array (this is \"data_mean\" that is returned by the function)\n",
    "# 3. Calculate the mean from each bootstrap (i.e., row) and store it.\n",
    "# (This should be an array of n_bootstraps values)\n",
    "# 4. Calculate the lower and upper bounds for a 95% CI (hint: check the percentile function on Numpy)\n",
    "# 5. Return data_mean, and the lower and upper bounds of your interval\n",
    "def bootstrap_mean(x, sample_size, n_bootstraps):\n",
    "\t# <---INSERT YOUR CODE HERE--->\n",
    "\tarr=np.random.choice(x,(n_bootstraps, sample_size))\n",
    "\tdata_mean = np.mean(arr)\n",
    "\tbt_mean = np.std(arr,axis=1)\n",
    "\tdata_mean = np.mean(arr)\n",
    "\tlower = np.percentile(bt_mean, 2.5)\n",
    "\tupper = np.percentile(bt_mean, 97.5)\n",
    "\treturn data_mean, lower, upper\n"
   ]
  },
  {
   "cell_type": "code",
   "execution_count": 45,
   "metadata": {
    "colab": {
     "base_uri": "https://localhost:8080/",
     "height": 441
    },
    "executionInfo": {
     "elapsed": 1033,
     "status": "ok",
     "timestamp": 1643375942692,
     "user": {
      "displayName": "ajay kiran",
      "photoUrl": "https://lh3.googleusercontent.com/a/default-user=s64",
      "userId": "17386896503952830029"
     },
     "user_tz": 0
    },
    "id": "AN7sEOcMYC4P",
    "outputId": "10a8f9f6-7d30-4fab-dcd4-b72ab694b238",
    "pycharm": {
     "name": "#%%\n"
    }
   },
   "outputs": [
    {
     "name": "stdout",
     "output_type": "stream",
     "text": [
      "(9.204107142857143, 2.730216407659485, 7.367927250440408)\n"
     ]
    },
    {
     "name": "stderr",
     "output_type": "stream",
     "text": [
      "c:\\python3\\lib\\site-packages\\seaborn\\_decorators.py:36: FutureWarning: Pass the following variables as keyword args: x, y. From version 0.12, the only valid positional argument will be `data`, and passing other arguments without an explicit keyword will result in an error or misinterpretation.\n",
      "  warnings.warn(\n"
     ]
    },
    {
     "data": {
      "image/png": "[encoded data removed]",
      "text/plain": [
       "<Figure size 425.125x360 with 1 Axes>"
      ]
     },
     "metadata": {
      "needs_background": "light"
     },
     "output_type": "display_data"
    }
   ],
   "source": [
    "# Call your bootstrap function and plot the results\n",
    "\n",
    "boots = []\n",
    "for i in range(100, 50000, 1000):\n",
    "    boot = bootstrap_mean(data, data.shape[0], i)\n",
    "    boots.append([i, boot[0], \"mean\"])\n",
    "    boots.append([i, boot[1], \"lower\"])\n",
    "    boots.append([i, boot[2], \"upper\"])\n",
    "\n",
    "df_boot = pd.DataFrame(boots, columns=['Bootstrap Iterations', 'Mean', \"Value\"])\n",
    "sns_plot = sns.lmplot(df_boot.columns[0], df_boot.columns[1], data=df_boot, fit_reg=False, hue=\"Value\")\n",
    "\n",
    "sns_plot.axes[0, 0].set_ylim(0,)\n",
    "sns_plot.axes[0, 0].set_xlim(0, 50000)\n",
    "\n",
    "print(bootstrap_mean(data, data.shape[0], 10000))"
   ]
  },
  {
   "cell_type": "markdown",
   "metadata": {
    "id": "MjtP4e2_YC4V"
   },
   "source": [
    "\n",
    "Now, modify the bootstrap function you created above so that you can pass your desired confidence interval as a parameter.\n",
    "\n"
   ]
  },
  {
   "cell_type": "code",
   "execution_count": 36,
   "metadata": {
    "id": "3K9j0FuGYhHs"
   },
   "outputs": [],
   "source": [
    "def bootstrap_mean_ci(sample, sample_size, n_bootstraps, ci):\n",
    "\t# <---INSERT YOUR CODE HERE--->\n",
    "\tarr=np.random.choice(sample,(n_bootstraps, sample_size))\n",
    "\tdata_mean = np.mean(arr)\n",
    "\tbt_mean = np.mean(arr,axis=1)\n",
    "\tlower = np.percentile(bt_mean, (100-ci)/2)\n",
    "\tupper = np.percentile(bt_mean, (100+ci)/2)\n",
    "\treturn data_mean, lower, upper"
   ]
  },
  {
   "cell_type": "code",
   "execution_count": 53,
   "metadata": {
    "id": "ojxRCa8z6HT2"
   },
   "outputs": [
    {
     "name": "stdout",
     "output_type": "stream",
     "text": [
      "(30.481070886075948, 4.882132105762434, 7.167868246682166)\n"
     ]
    }
   ],
   "source": [
    "def bootstrap_sd_ci(sample, sample_size, n_bootstraps, ci):\n",
    "\t# <---INSERT YOUR CODE HERE--->\n",
    "\tarr=np.random.choice(sample,(n_bootstraps, sample_size))\n",
    "\tdata_mean = np.mean(arr)\n",
    "\tbt_mean = np.std(arr,axis=1)\n",
    "\tlower = np.percentile(bt_mean, (100-ci)/2)\n",
    "\tupper = np.percentile(bt_mean, (100+ci)/2)\n",
    "\treturn data_mean, lower, upper\n"
   ]
  },
  {
   "cell_type": "code",
   "execution_count": 44,
   "metadata": {
    "colab": {
     "base_uri": "https://localhost:8080/",
     "height": 441
    },
    "executionInfo": {
     "elapsed": 994,
     "status": "ok",
     "timestamp": 1643376083731,
     "user": {
      "displayName": "ajay kiran",
      "photoUrl": "https://lh3.googleusercontent.com/a/default-user=s64",
      "userId": "17386896503952830029"
     },
     "user_tz": 0
    },
    "id": "uDnjq08GYl-C",
    "outputId": "31a3316f-43a9-48cc-89c6-884d0014e8af"
   },
   "outputs": [
    {
     "name": "stdout",
     "output_type": "stream",
     "text": [
      "[6.28571429 6.35714286 6.42857143 6.42857143 6.42857143 6.42857143\n",
      " 6.42857143 6.42857143 6.42857143 6.42857143 6.42857143 6.42857143\n",
      " 6.42857143 6.42857143 6.42857143 6.42857143 6.42857143 6.42857143\n",
      " 6.42857143 6.42857143 6.42857143 6.42857143 6.42857143 6.42857143\n",
      " 6.42857143 6.42857143 6.42857143 6.42857143 6.42857143 6.42857143\n",
      " 6.42857143 6.42857143 6.42857143 6.42857143 6.42857143 6.42857143\n",
      " 6.42857143 6.42857143 6.42857143 6.42857143 6.42857143 6.42857143\n",
      " 6.42857143 6.42857143 6.42857143 6.5        6.5        6.5\n",
      " 6.5        6.74821429]\n",
      "[12.21428571 12.21428571 12.28571429 12.28571429 12.28571429 12.28571429\n",
      " 12.28571429 12.28571429 12.32678571 12.35714286 12.35714286 12.35714286\n",
      " 12.35714286 12.35714286 12.35714286 12.35714286 12.35714286 12.35714286\n",
      " 12.35714286 12.35714286 12.35714286 12.35714286 12.35714286 12.35714286\n",
      " 12.35714286 12.35714286 12.35714286 12.35714286 12.35714286 12.35714286\n",
      " 12.35714286 12.35714286 12.35714286 12.35714286 12.35714286 12.35714286\n",
      " 12.35714286 12.35714286 12.35714286 12.35714286 12.35714286 12.35714286\n",
      " 12.39464286 12.42857143 12.42857143 12.42857143 12.42857143 12.42857143\n",
      " 12.42857143 12.46607143]\n"
     ]
    },
    {
     "name": "stderr",
     "output_type": "stream",
     "text": [
      "c:\\python3\\lib\\site-packages\\seaborn\\_decorators.py:36: FutureWarning: Pass the following variables as keyword args: x, y. From version 0.12, the only valid positional argument will be `data`, and passing other arguments without an explicit keyword will result in an error or misinterpretation.\n",
      "  warnings.warn(\n"
     ]
    },
    {
     "data": {
      "image/png": "[encoded data removed]",
      "text/plain": [
       "<Figure size 425.125x360 with 1 Axes>"
      ]
     },
     "metadata": {
      "needs_background": "light"
     },
     "output_type": "display_data"
    }
   ],
   "source": [
    "boots = []\n",
    "m=[]\n",
    "l=[]\n",
    "u=[]\n",
    "for i in range(100, 50000, 1000):\n",
    "    boot = bootstrap_mean_ci(data, data.shape[0], i, 95)\n",
    "    boots.append([i, boot[0], \"mean\"])\n",
    "    boots.append([i, boot[1], \"lower\"])\n",
    "    boots.append([i, boot[2], \"upper\"])\n",
    "    m.append(boot[0])\n",
    "    l.append(boot[1])\n",
    "    u.append(boot[2])\n",
    "df_boot = pd.DataFrame(boots, columns=['Boostrap Iterations', 'Mean', \"Value\"])\n",
    "sns_plot = sns.lmplot(df_boot.columns[0], df_boot.columns[1], data=df_boot, fit_reg=False, hue=\"Value\")\n",
    "\n",
    "sns_plot.axes[0, 0].set_ylim(0,)\n",
    "sns_plot.axes[0, 0].set_xlim(0, 50000)\n",
    "m=np.sort(m)\n",
    "l=np.sort(l)\n",
    "u=np.sort(u)\n",
    "#sns_plot.savefig(\"bootstrap_confidence_80.pdf\", bbox_inches='tight')\n",
    "print(l)\n",
    "print(u)"
   ]
  },
  {
   "cell_type": "markdown",
   "metadata": {
    "id": "qjNgXW6wdd7r"
   },
   "source": [
    "# Vehicles dataset\n",
    "\n",
    "Now let's work on a different dataset, which is stored in the vehicles.csv file.\n"
   ]
  },
  {
   "cell_type": "code",
   "execution_count": 8,
   "metadata": {
    "colab": {
     "base_uri": "https://localhost:8080/"
    },
    "executionInfo": {
     "elapsed": 205,
     "status": "ok",
     "timestamp": 1643375965292,
     "user": {
      "displayName": "ajay kiran",
      "photoUrl": "https://lh3.googleusercontent.com/a/default-user=s64",
      "userId": "17386896503952830029"
     },
     "user_tz": 0
    },
    "id": "avWv4ipFdpka",
    "outputId": "f64082b1-96ee-4c0c-cd8b-3427e345ab33"
   },
   "outputs": [
    {
     "name": "stdout",
     "output_type": "stream",
     "text": [
      "[24. 27. 27. 25. 31. 35. 24. 19. 28. 23. 27. 20. 22. 18. 20. 31. 32. 31.\n",
      " 32. 24. 26. 29. 24. 24. 33. 33. 32. 28. 19. 32. 34. 26. 30. 22. 22. 33.\n",
      " 39. 36. 28. 27. 21. 24. 30. 34. 32. 38. 37. 30. 31. 37. 32. 47. 41. 45.\n",
      " 34. 33. 24. 32. 39. 35. 32. 37. 38. 34. 34. 32. 33. 32. 25. 24. 37. 31.\n",
      " 36. 36. 34. 38. 32. 38. 32.]\n"
     ]
    }
   ],
   "source": [
    "# Load and visualise the vehicles dataset\n",
    "# To load the dataset: https://neptune.ai/blog/google-colab-dealing-with-files (check section \"Load individual files directly from GitHub\")\n",
    "\n",
    "\n",
    "# Note that the current and new fleets are in different columns and have different lengths, so bear this in mind when you're plotting.\n",
    "# You can create separate scatterplots for the two fleets, as you would with the histograms, \n",
    "# or plot them both in one plot (but not one against the other).\n",
    "# <---INSERT YOUR CODE HERE--->\n",
    "# Note: you can add more cells as needed to organise your code and your plots\n",
    "df = pd.read_csv('https://raw.githubusercontent.com/albanda/CE888/master/lab2%20-%20bootstrap/vehicles.csv')\n",
    "curr = df.values.T[0]\n",
    "d=df.dropna()\n",
    "nw=d.values.T[1]\n",
    "print(nw)"
   ]
  },
  {
   "cell_type": "code",
   "execution_count": null,
   "metadata": {
    "id": "X7J7PISIlBLS"
   },
   "outputs": [],
   "source": []
  },
  {
   "cell_type": "markdown",
   "metadata": {
    "id": "B5d0tXDpIEj8"
   },
   "source": [
    "## Compare the two fleets\n",
    "\n",
    "The business analysts come up a comparison algorithm that requires the upper and lower bounds for the mean in order to say which fleet is better.\n",
    "1. Calculate the mean of both samples.\n",
    "2. Using the bootstrap function that you created:\n",
    "    - Construct the 95% CI of the mean of the current fleet.\n",
    "    - Construct the 95% CI of the mean of the new fleet.\n",
    "    - Are they comparable? (i.e., is one better than the other?) -- you can do this with a permutation test (check the lecture notes!)"
   ]
  },
  {
   "cell_type": "code",
   "execution_count": 26,
   "metadata": {
    "colab": {
     "base_uri": "https://localhost:8080/",
     "height": 736
    },
    "executionInfo": {
     "elapsed": 3357,
     "status": "ok",
     "timestamp": 1643378261817,
     "user": {
      "displayName": "ajay kiran",
      "photoUrl": "https://lh3.googleusercontent.com/a/default-user=s64",
      "userId": "17386896503952830029"
     },
     "user_tz": 0
    },
    "id": "po4mp6zRHC0m",
    "outputId": "f9ece03b-24a7-4786-fa71-b24bf64704ce"
   },
   "outputs": [
    {
     "name": "stdout",
     "output_type": "stream",
     "text": [
      "[5.48122069 5.59673923 5.59705937 5.59855652 5.59915454 5.6088952\n",
      " 5.61614363 5.61615936 5.61635539 5.61665265 5.61740213 5.61742033\n",
      " 5.61778223 5.61833957 5.61964056 5.62099339 5.62100025 5.62155159\n",
      " 5.62165343 5.6224785  5.62262026 5.62356182 5.62373561 5.62401106\n",
      " 5.62406901 5.62451634 5.62476496 5.62479299 5.62562223 5.62613717\n",
      " 5.62668772 5.62706049 5.62746742 5.6284399  5.62867483 5.62933189\n",
      " 5.62951024 5.63055475 5.63287661 5.63288301 5.6330916  5.63314855\n",
      " 5.63657943 5.63885577 5.63896503 5.63953796 5.64043035 5.6410636\n",
      " 5.66434971 5.66773777]\n",
      "[7.01335172 7.08031697 7.08792131 7.09126254 7.09738855 7.10190871\n",
      " 7.10306796 7.10353116 7.10554007 7.10590803 7.10629588 7.1067221\n",
      " 7.10834056 7.1091772  7.10986465 7.11039972 7.11272373 7.11296736\n",
      " 7.11323522 7.11396709 7.11419787 7.11441919 7.1144775  7.1150741\n",
      " 7.11520647 7.11661315 7.11671125 7.11681604 7.11741552 7.11812874\n",
      " 7.11936711 7.12024162 7.12143794 7.1215972  7.12164387 7.12193617\n",
      " 7.12271466 7.1236831  7.12373544 7.12439163 7.12661062 7.12758804\n",
      " 7.12761045 7.12784159 7.13068628 7.13202119 7.13562693 7.14095617\n",
      " 7.1455321  7.15828645]\n"
     ]
    },
    {
     "name": "stderr",
     "output_type": "stream",
     "text": [
      "c:\\python3\\lib\\site-packages\\seaborn\\_decorators.py:36: FutureWarning: Pass the following variables as keyword args: x, y. From version 0.12, the only valid positional argument will be `data`, and passing other arguments without an explicit keyword will result in an error or misinterpretation.\n",
      "  warnings.warn(\n"
     ]
    },
    {
     "data": {
      "image/png": "[encoded data removed]",
      "text/plain": [
       "<Figure size 425.125x360 with 1 Axes>"
      ]
     },
     "metadata": {
      "needs_background": "light"
     },
     "output_type": "display_data"
    }
   ],
   "source": [
    "# <---INSERT YOUR CODE HERE--->\n",
    "#for i in range(0,10000):\n",
    "boot_curr = bootstrap_mean_ci(curr,curr.shape[0],1,95)\n",
    "boot_nw = bootstrap_mean_ci(nw,nw.shape[0],1,95)\n",
    "\n",
    "#boot_new=bootstrap_mean_ci(new,new.shape[0],1,95)\n",
    "#boots_curr.append([i, boot_curr[0], \"mean\"])\n",
    "#boots_curr.append([i, boot_curr[1], \"lower\"])\n",
    " # boots_curr.append([i, boot_curr[2], \"upper\"])\n",
    " # boots_new.append([i, boot_new[0], \"mean\"])\n",
    "  #boots_new.append([i, boot_new[1], \"lower\"])\n",
    "  #boots_new.append([i, boot_new[2], \"upper\"])\n",
    "#df_boot = pd.DataFrame(boots_curr, columns=['Boostrap Iterations', 'Mean', \"Value\"])\n",
    "#sns_plot = sns.lmplot(df_boot.columns[0], df_boot.columns[1], data=df_boot, fit_reg=False, hue=\"Value\")\n",
    "\n",
    "#sns_plot.axes[0, 0].set_ylim(0,)\n",
    "#sns_plot.axes[0, 0].set_xlim(0, 50000)\n",
    "#sns_plot.savefig(\"bootstrap_confidence_80.pdf\", bbox_inches='tight')\n",
    "boots = []\n",
    "m=[]\n",
    "l=[]\n",
    "u=[]\n",
    "for i in range(100, 50000, 1000):\n",
    "    boot = bootstrap_sd_ci(curr, curr.shape[0], i, 99)\n",
    "    boots.append([i, boot[0], \"mean\"])\n",
    "    boots.append([i, boot[1], \"lower\"])\n",
    "    boots.append([i, boot[2], \"upper\"])\n",
    "    m.append(boot[0])\n",
    "    l.append(boot[1])\n",
    "    u.append(boot[2])\n",
    "df_boot = pd.DataFrame(boots, columns=['Boostrap Iterations', 'Mean', \"Value\"])\n",
    "sns_plot = sns.lmplot(df_boot.columns[0], df_boot.columns[1], data=df_boot, fit_reg=False, hue=\"Value\")\n",
    "\n",
    "sns_plot.axes[0, 0].set_ylim(0,)\n",
    "sns_plot.axes[0, 0].set_xlim(0, 50000)\n",
    "m=np.sort(m)\n",
    "l=np.sort(l)\n",
    "u=np.sort(u)\n",
    "#sns_plot.savefig(\"bootstrap_confidence_80.pdf\", bbox_inches='tight')\n",
    "print(l)\n",
    "print(u)"
   ]
  },
  {
   "cell_type": "code",
   "execution_count": 61,
   "metadata": {
    "executionInfo": {
     "elapsed": 234,
     "status": "ok",
     "timestamp": 1643378381864,
     "user": {
      "displayName": "ajay kiran",
      "photoUrl": "https://lh3.googleusercontent.com/a/default-user=s64",
      "userId": "17386896503952830029"
     },
     "user_tz": 0
    },
    "id": "MkxvDZG4HC0n"
   },
   "outputs": [],
   "source": [
    "# Create your own function for a permutation test here (you will need it for the lab quiz!):\n",
    "def permut_test(sample1, sample2, n_permutations):\n",
    "    \"\"\"\n",
    "    sample1: 1D array\n",
    "    sample2: 1D array (note that the size of the two arrays can be different)\n",
    "    n_permutations: number of permutations to calculate the p-value\n",
    "    \"\"\"\n",
    "    sample1_m=np.mean(sample1)\n",
    "    sample2_m=np.mean(sample2)\n",
    "    t_obs=sample2_m-sample1_m\n",
    "    count=0\n",
    "    for i in range(n_permutations):\n",
    "      concat=np.concatenate([sample1,sample2])\n",
    "      perm=np.random.permutation(concat)\n",
    "      pold = perm[:int(len(perm)/2)]\n",
    "      pnew = perm[int(len(perm)/2):]\n",
    "      pold_m = np.mean(pold)\n",
    "      pnew_m= np.mean(pnew)\n",
    "      t_perm=pnew_m-pold_m\n",
    "      if(t_perm>t_obs):\n",
    "        count+=1\n",
    "      pvalue=count/n_permutations\n",
    "\n",
    "    return pvalue"
   ]
  },
  {
   "cell_type": "code",
   "execution_count": 62,
   "metadata": {
    "colab": {
     "base_uri": "https://localhost:8080/"
    },
    "executionInfo": {
     "elapsed": 1346,
     "status": "ok",
     "timestamp": 1643378385261,
     "user": {
      "displayName": "ajay kiran",
      "photoUrl": "https://lh3.googleusercontent.com/a/default-user=s64",
      "userId": "17386896503952830029"
     },
     "user_tz": 0
    },
    "id": "sXSofiGYtUZw",
    "outputId": "b54d7e86-01b5-455b-b4e7-6ea868b063c3"
   },
   "outputs": [
    {
     "data": {
      "text/plain": [
       "0.0"
      ]
     },
     "execution_count": 62,
     "metadata": {},
     "output_type": "execute_result"
    }
   ],
   "source": [
    "permut_test(curr, nw ,20000)"
   ]
  },
  {
   "cell_type": "code",
   "execution_count": 55,
   "metadata": {
    "id": "gmNwPadv0kh1"
   },
   "outputs": [],
   "source": [
    "# The variables below represent the percentages of democratic votes in Pennsylvania and Ohio (one value for each state).\n",
    "dem_share_PA = [60.08, 40.64, 36.07, 41.21, 31.04, 43.78, 44.08, 46.85, 44.71, 46.15, 63.10, 52.20, 43.18, 40.24, 39.92, 47.87, 37.77, 40.11, 49.85, 48.61, 38.62, 54.25, 34.84, 47.75, 43.82, 55.97, 58.23, 42.97, 42.38, 36.11, 37.53, 42.65, 50.96, 47.43, 56.24, 45.60, 46.39, 35.22, 48.56, 32.97, 57.88, 36.05, 37.72, 50.36, 32.12, 41.55, 54.66, 57.81, 54.58, 32.88, 54.37, 40.45, 47.61, 60.49, 43.11, 27.32, 44.03, 33.56, 37.26, 54.64, 43.12, 25.34, 49.79, 83.56, 40.09, 60.81, 49.81]\n",
    "dem_share_OH = [56.94, 50.46, 65.99, 45.88, 42.23, 45.26, 57.01, 53.61, 59.10, 61.48, 43.43, 44.69, 54.59, 48.36, 45.89, 48.62, 43.92, 38.23, 28.79, 63.57, 38.07, 40.18, 43.05, 41.56, 42.49, 36.06, 52.76, 46.07, 39.43, 39.26, 47.47, 27.92, 38.01, 45.45, 29.07, 28.94, 51.28, 50.10, 39.84, 36.43, 35.71, 31.47, 47.01, 40.10, 48.76, 31.56, 39.86, 45.31, 35.47, 51.38, 46.33, 48.73, 41.77, 41.32, 48.46, 53.14, 34.01, 54.74, 40.67, 38.96, 46.29, 38.25, 6.80, 31.75, 46.33, 44.90, 33.57, 38.10, 39.67, 40.47, 49.44, 37.62, 36.71, 46.73, 42.20, 53.16, 52.40, 58.36, 68.02, 38.53, 34.58, 69.64, 60.50, 53.53, 36.54, 49.58, 41.97, 38.11]\n"
   ]
  },
  {
   "cell_type": "code",
   "execution_count": 56,
   "metadata": {
    "colab": {
     "base_uri": "https://localhost:8080/"
    },
    "executionInfo": {
     "elapsed": 514,
     "status": "ok",
     "timestamp": 1643376874251,
     "user": {
      "displayName": "ajay kiran",
      "photoUrl": "https://lh3.googleusercontent.com/a/default-user=s64",
      "userId": "17386896503952830029"
     },
     "user_tz": 0
    },
    "id": "puKlZv0A307A",
    "outputId": "622128d7-b3cb-4f90-89af-0e2668eb8539"
   },
   "outputs": [
    {
     "name": "stdout",
     "output_type": "stream",
     "text": [
      "67 88\n"
     ]
    }
   ],
   "source": [
    "print(len(dem_share_PA),\n",
    "len(dem_share_OH))\n",
    "dem_share_PA=np.array(dem_share_PA)\n",
    "dem_share_OH=np.array(dem_share_OH)"
   ]
  },
  {
   "cell_type": "code",
   "execution_count": 57,
   "metadata": {
    "colab": {
     "base_uri": "https://localhost:8080/",
     "height": 1000
    },
    "executionInfo": {
     "elapsed": 5560,
     "status": "ok",
     "timestamp": 1643379100431,
     "user": {
      "displayName": "ajay kiran",
      "photoUrl": "https://lh3.googleusercontent.com/a/default-user=s64",
      "userId": "17386896503952830029"
     },
     "user_tz": 0
    },
    "id": "_7zMsb_T4BJt",
    "outputId": "8fc2ad0a-5c4d-447e-8816-821c4c2daa3d"
   },
   "outputs": [
    {
     "name": "stdout",
     "output_type": "stream",
     "text": [
      "[42.31971194 42.70136866 42.71042388 42.71177313 42.72787463 42.74790896\n",
      " 42.75039851 42.75262537 42.76283433 42.76402537 42.76745224 42.76886269\n",
      " 42.77029403 42.77043134 42.77148955 42.77237015 42.77326567 42.77337612\n",
      " 42.77670448 42.77876269 42.7808791  42.78164179 42.78252687 42.78265373\n",
      " 42.7837194  42.78398806 42.78432239 42.78566866 42.78579851 42.787\n",
      " 42.78865522 42.78983582 42.78997313 42.79013582 42.79085224 42.79087164\n",
      " 42.79088358 42.79089254 42.79159254 42.79250448 42.79318507 42.79342836\n",
      " 42.7949194  42.79594627 42.79626866 42.79879403 42.79908209 42.79967313\n",
      " 42.79999851 42.80074478 42.80104179 42.80208657 42.80327164 42.80490746\n",
      " 42.80521493 42.8068597  42.8081791  42.80879254 42.80887612 42.8093791\n",
      " 42.81102687 42.81188806 42.81281642 42.81311343 42.81313284 42.81356269\n",
      " 42.8138806  42.81399701 42.81445224 42.81504627 42.81720299 42.81746119\n",
      " 42.81759701 42.81760746 42.81787015 42.81939552 42.82089104 42.8225194\n",
      " 42.82477463 42.82536567 42.82566716 42.82637463 42.82685522 42.82895075\n",
      " 42.8294     42.83059254 42.83680448 42.83700448 42.83998955 42.84085522\n",
      " 42.85208806 42.85227164 42.85640896 42.85802985 42.8742791  42.88982239\n",
      " 42.8988194  42.93355522 43.04945672 43.07701791]\n",
      "[48.23330448 48.25230149 48.25992985 48.26031045 48.26762239 48.27255224\n",
      " 48.27299254 48.27702239 48.2802209  48.28448657 48.28657164 48.2867194\n",
      " 48.29095373 48.29104776 48.29122388 48.29316716 48.29656866 48.29674328\n",
      " 48.2969     48.2971791  48.29823134 48.30079254 48.3015     48.30210149\n",
      " 48.30253881 48.3025403  48.3061194  48.30750746 48.30896418 48.30975224\n",
      " 48.31044925 48.31075672 48.31239104 48.31356567 48.31359701 48.31437164\n",
      " 48.31441493 48.31538657 48.31658209 48.31676418 48.31687164 48.31852985\n",
      " 48.31941791 48.32226418 48.32851791 48.3287194  48.32896866 48.32990597\n",
      " 48.33020746 48.33210448 48.33434627 48.33492836 48.33657313 48.33791791\n",
      " 48.33836716 48.34074925 48.34186269 48.34271045 48.34436269 48.3446\n",
      " 48.34552239 48.34612836 48.34627015 48.34732239 48.34777761 48.3479194\n",
      " 48.3481     48.34926119 48.34985224 48.35008209 48.35106567 48.35134627\n",
      " 48.3522597  48.35257164 48.35329403 48.35343582 48.35418209 48.35464776\n",
      " 48.35478657 48.35686866 48.35850896 48.36032239 48.36104776 48.3619403\n",
      " 48.36362687 48.36539254 48.36701642 48.36835821 48.36837761 48.37104776\n",
      " 48.37778806 48.38433284 48.3928597  48.39658657 48.40551642 48.41468209\n",
      " 48.45047313 48.45141493 48.46049851 48.50697164]\n"
     ]
    },
    {
     "name": "stderr",
     "output_type": "stream",
     "text": [
      "c:\\python3\\lib\\site-packages\\seaborn\\_decorators.py:36: FutureWarning: Pass the following variables as keyword args: x, y. From version 0.12, the only valid positional argument will be `data`, and passing other arguments without an explicit keyword will result in an error or misinterpretation.\n",
      "  warnings.warn(\n"
     ]
    },
    {
     "data": {
      "image/png": "[encoded data removed]",
      "text/plain": [
       "<Figure size 425.125x360 with 1 Axes>"
      ]
     },
     "metadata": {
      "needs_background": "light"
     },
     "output_type": "display_data"
    }
   ],
   "source": [
    "boots = []\n",
    "count=0\n",
    "m=[]\n",
    "l=[]\n",
    "u=[]\n",
    "for i in range(100, 50000, 500):\n",
    "    boot = bootstrap_mean_ci(dem_share_PA, dem_share_PA.shape[0], i, 98)\n",
    "    boots.append([i, boot[0], \"mean\"])\n",
    "    boots.append([i, boot[1], \"lower\"])\n",
    "    boots.append([i, boot[2], \"upper\"])\n",
    "    count+=1\n",
    "    m.append(boot[0])\n",
    "    l.append(boot[1])\n",
    "    u.append(boot[2])\n",
    "df_boot = pd.DataFrame(boots, columns=['Boostrap Iterations', 'Mean', \"Value\"])\n",
    "sns_plot = sns.lmplot(df_boot.columns[0], df_boot.columns[1], data=df_boot, fit_reg=False, hue=\"Value\")\n",
    "\n",
    "sns_plot.axes[0, 0].set_ylim(0,)\n",
    "sns_plot.axes[0, 0].set_xlim(0, 50000)\n",
    "m=np.sort(m)\n",
    "l=np.sort(l)\n",
    "u=np.sort(u)\n",
    "#sns_plot.savefig(\"bootstrap_confidence_80.pdf\", bbox_inches='tight')\n",
    "print(l)\n",
    "print(u)"
   ]
  },
  {
   "cell_type": "code",
   "execution_count": 84,
   "metadata": {
    "colab": {
     "base_uri": "https://localhost:8080/"
    },
    "executionInfo": {
     "elapsed": 579,
     "status": "ok",
     "timestamp": 1643379128119,
     "user": {
      "displayName": "ajay kiran",
      "photoUrl": "https://lh3.googleusercontent.com/a/default-user=s64",
      "userId": "17386896503952830029"
     },
     "user_tz": 0
    },
    "id": "jlYxahQW4UbD",
    "outputId": "067bb79b-b152-4848-f0f9-dbc0f929d6f2"
   },
   "outputs": [
    {
     "data": {
      "text/plain": [
       "0.2372"
      ]
     },
     "execution_count": 84,
     "metadata": {},
     "output_type": "execute_result"
    }
   ],
   "source": [
    "permut_test(dem_share_OH, dem_share_PA ,10000  )"
   ]
  },
  {
   "cell_type": "code",
   "execution_count": 79,
   "metadata": {
    "id": "msD_SW-y52Nc"
   },
   "outputs": [
    {
     "name": "stdout",
     "output_type": "stream",
     "text": [
      "(9.226057142857142, 3.0338229402279002, 7.135710710709815)\n"
     ]
    }
   ],
   "source": [
    "print(bootstrap_sd_ci(data,data.shape[0], 10000   ,90))"
   ]
  },
  {
   "cell_type": "code",
   "execution_count": 82,
   "metadata": {},
   "outputs": [
    {
     "name": "stdout",
     "output_type": "stream",
     "text": [
      "(45.48962055223881, 43.2411828358209, 47.85608955223879)\n"
     ]
    }
   ],
   "source": [
    "print(bootstrap_mean_ci(dem_share_PA, dem_share_PA.shape[0], 20000 ,95))"
   ]
  },
  {
   "cell_type": "code",
   "execution_count": null,
   "metadata": {},
   "outputs": [],
   "source": []
  }
 ],
 "metadata": {
  "colab": {
   "collapsed_sections": [],
   "name": "Copy of bootstrap.ipynb",
   "provenance": [
    {
     "file_id": "https://github.com/albanda/CE888/blob/master/lab2%20-%20bootstrap/bootstrap.ipynb",
     "timestamp": 1643373873603
    }
   ]
  },
  "kernelspec": {
   "display_name": "Python 3 (ipykernel)",
   "language": "python",
   "name": "python3"
  },
  "language_info": {
   "codemirror_mode": {
    "name": "ipython",
    "version": 3
   },
   "file_extension": ".py",
   "mimetype": "text/x-python",
   "name": "python",
   "nbconvert_exporter": "python",
   "pygments_lexer": "ipython3",
   "version": "3.9.6"
  },
  "pycharm": {
   "stem_cell": {
    "cell_type": "raw",
    "metadata": {
     "collapsed": false
    },
    "source": []
   }
  }
 },
 "nbformat": 4,
 "nbformat_minor": 1
}
