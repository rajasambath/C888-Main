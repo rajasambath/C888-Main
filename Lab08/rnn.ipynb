{
 "cells": [
  {
   "cell_type": "markdown",
   "metadata": {
    "id": "gS1IIAS-bcb-"
   },
   "source": [
    "# Learning from Sequences: Timeseries and Text\n",
    "\n",
    "Created by Dr Ana Matran-Fernandez (amatra@essex.ac.uk) for CE888 (Data Science and Decision Making)\n",
    "\n",
    "This notebook accompanies lecture 8 and illustrates recurrent neural networks on an example of a timeseries (predicting tomorrow's temperature) and a classification problem on the IMDB text dataset."
   ]
  },
  {
   "cell_type": "markdown",
   "metadata": {
    "id": "0myiQp20cxRK"
   },
   "source": [
    "# Imports"
   ]
  },
  {
   "cell_type": "code",
   "execution_count": 1,
   "metadata": {
    "executionInfo": {
     "elapsed": 1038,
     "status": "ok",
     "timestamp": 1646955292832,
     "user": {
      "displayName": "",
      "photoUrl": "",
      "userId": ""
     },
     "user_tz": 0
    },
    "id": "1J0bYBQ7_a0L"
   },
   "outputs": [],
   "source": [
    "# imports\n",
    "import numpy as np\n",
    "import matplotlib.pyplot as plt\n",
    "import os\n",
    "import pandas as pd\n",
    "from sklearn.model_selection import train_test_split"
   ]
  },
  {
   "cell_type": "code",
   "execution_count": 2,
   "metadata": {
    "executionInfo": {
     "elapsed": 4654,
     "status": "ok",
     "timestamp": 1646955302638,
     "user": {
      "displayName": "",
      "photoUrl": "",
      "userId": ""
     },
     "user_tz": 0
    },
    "id": "U0NPDv7X_a0M"
   },
   "outputs": [],
   "source": [
    "# tensorflow imports\n",
    "from tensorflow import keras\n",
    "from keras import layers, models\n",
    "from keras.callbacks import EarlyStopping, ModelCheckpoint"
   ]
  },
  {
   "cell_type": "markdown",
   "metadata": {
    "id": "xaiw_VZjbtSH"
   },
   "source": [
    "# Timeseries"
   ]
  },
  {
   "cell_type": "code",
   "execution_count": 3,
   "metadata": {
    "colab": {
     "base_uri": "https://localhost:8080/",
     "height": 345
    },
    "executionInfo": {
     "elapsed": 1256,
     "status": "error",
     "timestamp": 1646955308401,
     "user": {
      "displayName": "",
      "photoUrl": "",
      "userId": ""
     },
     "user_tz": 0
    },
    "id": "iA_R1Q-K_a0N",
    "outputId": "064a68db-2fb0-4843-b20b-3d851578864d"
   },
   "outputs": [
    {
     "data": {
      "text/html": [
       "<div>\n",
       "<style scoped>\n",
       "    .dataframe tbody tr th:only-of-type {\n",
       "        vertical-align: middle;\n",
       "    }\n",
       "\n",
       "    .dataframe tbody tr th {\n",
       "        vertical-align: top;\n",
       "    }\n",
       "\n",
       "    .dataframe thead th {\n",
       "        text-align: right;\n",
       "    }\n",
       "</style>\n",
       "<table border=\"1\" class=\"dataframe\">\n",
       "  <thead>\n",
       "    <tr style=\"text-align: right;\">\n",
       "      <th></th>\n",
       "      <th>date</th>\n",
       "      <th>radiation_avg</th>\n",
       "      <th>precip</th>\n",
       "      <th>wind_avg</th>\n",
       "      <th>wind_max</th>\n",
       "      <th>temp_avg</th>\n",
       "      <th>humidity_avg</th>\n",
       "    </tr>\n",
       "  </thead>\n",
       "  <tbody>\n",
       "    <tr>\n",
       "      <th>0</th>\n",
       "      <td>14/05/2014 00:00</td>\n",
       "      <td>159</td>\n",
       "      <td>0.0</td>\n",
       "      <td>1.4</td>\n",
       "      <td>3.3</td>\n",
       "      <td>14.27</td>\n",
       "      <td>64.95</td>\n",
       "    </tr>\n",
       "    <tr>\n",
       "      <th>1</th>\n",
       "      <td>15/05/2014 00:00</td>\n",
       "      <td>280</td>\n",
       "      <td>0.0</td>\n",
       "      <td>0.6</td>\n",
       "      <td>2.3</td>\n",
       "      <td>13.51</td>\n",
       "      <td>72.91</td>\n",
       "    </tr>\n",
       "    <tr>\n",
       "      <th>2</th>\n",
       "      <td>16/05/2014 00:00</td>\n",
       "      <td>186</td>\n",
       "      <td>3.4</td>\n",
       "      <td>0.8</td>\n",
       "      <td>2.7</td>\n",
       "      <td>15.65</td>\n",
       "      <td>74.69</td>\n",
       "    </tr>\n",
       "    <tr>\n",
       "      <th>3</th>\n",
       "      <td>17/05/2014 00:00</td>\n",
       "      <td>221</td>\n",
       "      <td>0.0</td>\n",
       "      <td>1.0</td>\n",
       "      <td>3.3</td>\n",
       "      <td>17.46</td>\n",
       "      <td>71.42</td>\n",
       "    </tr>\n",
       "    <tr>\n",
       "      <th>4</th>\n",
       "      <td>18/05/2014 00:00</td>\n",
       "      <td>255</td>\n",
       "      <td>0.0</td>\n",
       "      <td>2.1</td>\n",
       "      <td>5.5</td>\n",
       "      <td>16.85</td>\n",
       "      <td>74.45</td>\n",
       "    </tr>\n",
       "    <tr>\n",
       "      <th>...</th>\n",
       "      <td>...</td>\n",
       "      <td>...</td>\n",
       "      <td>...</td>\n",
       "      <td>...</td>\n",
       "      <td>...</td>\n",
       "      <td>...</td>\n",
       "      <td>...</td>\n",
       "    </tr>\n",
       "    <tr>\n",
       "      <th>2551</th>\n",
       "      <td>17/05/2021 00:00</td>\n",
       "      <td>196</td>\n",
       "      <td>1.4</td>\n",
       "      <td>2.2</td>\n",
       "      <td>5.5</td>\n",
       "      <td>10.51</td>\n",
       "      <td>99.86</td>\n",
       "    </tr>\n",
       "    <tr>\n",
       "      <th>2552</th>\n",
       "      <td>17/05/2021 00:00</td>\n",
       "      <td>173</td>\n",
       "      <td>2.8</td>\n",
       "      <td>1.8</td>\n",
       "      <td>5.5</td>\n",
       "      <td>10.80</td>\n",
       "      <td>99.86</td>\n",
       "    </tr>\n",
       "    <tr>\n",
       "      <th>2553</th>\n",
       "      <td>18/05/2021 00:00</td>\n",
       "      <td>311</td>\n",
       "      <td>0.0</td>\n",
       "      <td>1.4</td>\n",
       "      <td>5.0</td>\n",
       "      <td>10.29</td>\n",
       "      <td>92.94</td>\n",
       "    </tr>\n",
       "    <tr>\n",
       "      <th>2554</th>\n",
       "      <td>19/05/2021 00:00</td>\n",
       "      <td>232</td>\n",
       "      <td>6.6</td>\n",
       "      <td>1.8</td>\n",
       "      <td>5.5</td>\n",
       "      <td>11.39</td>\n",
       "      <td>90.32</td>\n",
       "    </tr>\n",
       "    <tr>\n",
       "      <th>2555</th>\n",
       "      <td>20/05/2021 00:00</td>\n",
       "      <td>44</td>\n",
       "      <td>0.0</td>\n",
       "      <td>0.5</td>\n",
       "      <td>2.7</td>\n",
       "      <td>6.35</td>\n",
       "      <td>99.86</td>\n",
       "    </tr>\n",
       "  </tbody>\n",
       "</table>\n",
       "<p>2556 rows × 7 columns</p>\n",
       "</div>"
      ],
      "text/plain": [
       "                  date  radiation_avg  precip  wind_avg  wind_max  temp_avg  \\\n",
       "0     14/05/2014 00:00            159     0.0       1.4       3.3     14.27   \n",
       "1     15/05/2014 00:00            280     0.0       0.6       2.3     13.51   \n",
       "2     16/05/2014 00:00            186     3.4       0.8       2.7     15.65   \n",
       "3     17/05/2014 00:00            221     0.0       1.0       3.3     17.46   \n",
       "4     18/05/2014 00:00            255     0.0       2.1       5.5     16.85   \n",
       "...                ...            ...     ...       ...       ...       ...   \n",
       "2551  17/05/2021 00:00            196     1.4       2.2       5.5     10.51   \n",
       "2552  17/05/2021 00:00            173     2.8       1.8       5.5     10.80   \n",
       "2553  18/05/2021 00:00            311     0.0       1.4       5.0     10.29   \n",
       "2554  19/05/2021 00:00            232     6.6       1.8       5.5     11.39   \n",
       "2555  20/05/2021 00:00             44     0.0       0.5       2.7      6.35   \n",
       "\n",
       "      humidity_avg  \n",
       "0            64.95  \n",
       "1            72.91  \n",
       "2            74.69  \n",
       "3            71.42  \n",
       "4            74.45  \n",
       "...            ...  \n",
       "2551         99.86  \n",
       "2552         99.86  \n",
       "2553         92.94  \n",
       "2554         90.32  \n",
       "2555         99.86  \n",
       "\n",
       "[2556 rows x 7 columns]"
      ]
     },
     "execution_count": 3,
     "metadata": {},
     "output_type": "execute_result"
    }
   ],
   "source": [
    "df = pd.read_csv('https://raw.githubusercontent.com/albanda/CE888/master/lab8/weather.csv')\n",
    "df.drop(['temp_max', 'temp_min'], axis=1, inplace=True)\n",
    "df"
   ]
  },
  {
   "cell_type": "code",
   "execution_count": 4,
   "metadata": {
    "colab": {
     "base_uri": "https://localhost:8080/",
     "height": 279
    },
    "id": "nzsytNAh_a0N",
    "outputId": "fd5d1d32-d135-4784-ed4e-87897d4a5104"
   },
   "outputs": [
    {
     "data": {
      "image/png": "[encoded data removed]",
      "text/plain": [
       "<Figure size 432x288 with 1 Axes>"
      ]
     },
     "metadata": {
      "needs_background": "light"
     },
     "output_type": "display_data"
    }
   ],
   "source": [
    "plt.plot(range(len(df)), df['temp_avg'])\n",
    "plt.xlabel('Temporal range')\n",
    "plt.ylabel('Average temperature (C) (7 years)')\n",
    "plt.savefig('temperature_over_time.pdf', bbox_inches='tight')"
   ]
  },
  {
   "cell_type": "code",
   "execution_count": 5,
   "metadata": {
    "colab": {
     "base_uri": "https://localhost:8080/",
     "height": 279
    },
    "id": "ysbM2n99_a0N",
    "outputId": "e83eb333-eb41-43a6-aed4-d467dd53a0ed"
   },
   "outputs": [
    {
     "data": {
      "image/png": "[encoded data removed]",
      "text/plain": [
       "<Figure size 432x288 with 1 Axes>"
      ]
     },
     "metadata": {
      "needs_background": "light"
     },
     "output_type": "display_data"
    }
   ],
   "source": [
    "# Look at the first 2 years\n",
    "length = 2*365\n",
    "plt.plot(range(length), df['temp_avg'][:length])\n",
    "plt.xlabel('Temporal range')\n",
    "plt.ylabel('Average temperature (C) (2 years)')\n",
    "plt.savefig('temperature_over_time_2y.pdf', bbox_inches='tight')"
   ]
  },
  {
   "cell_type": "markdown",
   "metadata": {
    "id": "ikyqi2m7_a0O"
   },
   "source": [
    "We have clear periodicity every year. In the previous plot we saw 7 cycles (7 years). Here we see 2.\n",
    "\n",
    "Always look for periodicity in your timeseries. There will always be daily and yearly cycles. Check these patterns.\n",
    "\n",
    "Another issue with timeseries is dividing the dataset into train/validation/test sets. We definitely cannot shuffle the data, and we need to be very careful with data leakage (using data from the future)."
   ]
  },
  {
   "cell_type": "markdown",
   "metadata": {
    "id": "1fxuW2ne_a0P"
   },
   "source": [
    "## Data prep\n",
    "\n",
    "We'll try to predict the average temperature of tomorrow based on data from the past.\n",
    "\n",
    "To avoid data leakage, we're going to use a simple approach: use the first 50% of data for training, the next 30% for validation, and the final 20% for testing.\n"
   ]
  },
  {
   "cell_type": "code",
   "execution_count": 6,
   "metadata": {
    "colab": {
     "base_uri": "https://localhost:8080/"
    },
    "id": "vofGsYen_a0P",
    "outputId": "d9c3740f-5cc9-410c-db5b-0e5de780084f"
   },
   "outputs": [
    {
     "name": "stdout",
     "output_type": "stream",
     "text": [
      "Samples for training: 1278; validation: 766; test: 512\n"
     ]
    }
   ],
   "source": [
    "n_tr, n_val = int(0.5*len(df)), int(0.3*len(df))\n",
    "n_te = len(df) - n_tr - n_val\n",
    "print('Samples for training: %d; validation: %d; test: %d' % (n_tr, n_val, n_te))"
   ]
  },
  {
   "cell_type": "code",
   "execution_count": 7,
   "metadata": {
    "colab": {
     "base_uri": "https://localhost:8080/"
    },
    "id": "lsMDT2Jq_a0P",
    "outputId": "40daccd3-273c-4909-818c-09a40b155929"
   },
   "outputs": [
    {
     "name": "stdout",
     "output_type": "stream",
     "text": [
      "(2556, 6)\n"
     ]
    }
   ],
   "source": [
    "# Get the data from the dataframe (dropping date column)\n",
    "data = df.iloc[:, 1:].values\n",
    "print(data.shape)\n",
    "assert data.shape[0] == len(df)\n",
    "assert data.shape[1] == len(df.columns)-1, \"Are you sure you're dropping the date?\"\n",
    "# We need to normalise our time series. Calculate mean and std from TRAINING DATA ONLY. \n",
    "# We'll use it on the validation and test sets.\n",
    "mean_tr = data[:n_tr, :].mean(axis=0)\n",
    "std_tr = data[:n_tr, :].std(axis=0)\n",
    "data = (data - mean_tr) / std_tr\n",
    "\n",
    "\n",
    "y = df['temp_avg'].values.reshape(-1, 1)\n",
    "\n",
    "# index of the column that contains the avg_temp\n",
    "y_idx = 4"
   ]
  },
  {
   "cell_type": "code",
   "execution_count": 8,
   "metadata": {
    "colab": {
     "base_uri": "https://localhost:8080/"
    },
    "id": "1VJAcdfICLi1",
    "outputId": "41b330ca-bfad-49b3-ccae-fb22c8411336"
   },
   "outputs": [
    {
     "data": {
      "text/plain": [
       "array([14.27, 13.51, 15.65, 17.46, 16.85, 18.26, 17.35, 15.55, 14.52,\n",
       "       13.93, 11.48, 13.63, 12.81, 12.4 , 13.67, 14.15, 13.22, 12.21,\n",
       "       15.53, 14.52])"
      ]
     },
     "execution_count": 8,
     "metadata": {},
     "output_type": "execute_result"
    }
   ],
   "source": [
    "data[:20, y_idx] * std_tr[y_idx] + mean_tr[y_idx]"
   ]
  },
  {
   "cell_type": "code",
   "execution_count": 9,
   "metadata": {
    "colab": {
     "base_uri": "https://localhost:8080/"
    },
    "id": "xN-YJyEeCUv9",
    "outputId": "9cf43612-c0f3-4864-f113-a9a5531e0904"
   },
   "outputs": [
    {
     "data": {
      "text/plain": [
       "array([[18.26],\n",
       "       [17.35],\n",
       "       [15.55],\n",
       "       [14.52],\n",
       "       [13.93],\n",
       "       [11.48],\n",
       "       [13.63],\n",
       "       [12.81],\n",
       "       [12.4 ],\n",
       "       [13.67],\n",
       "       [14.15],\n",
       "       [13.22],\n",
       "       [12.21],\n",
       "       [15.53],\n",
       "       [14.52],\n",
       "       [15.35],\n",
       "       [12.29],\n",
       "       [13.88],\n",
       "       [15.13],\n",
       "       [17.29]])"
      ]
     },
     "execution_count": 9,
     "metadata": {},
     "output_type": "execute_result"
    }
   ],
   "source": [
    "y[5:25]"
   ]
  },
  {
   "cell_type": "code",
   "execution_count": 10,
   "metadata": {
    "id": "K_JGeiAs_a0Q"
   },
   "outputs": [],
   "source": [
    "# We'll use a Dataset from keras to pass our data\n",
    "sampling_rate = 1  # we keep all data points\n",
    "sequence_length = 14  # 2 weeks to predict tomorrow's temperature\n",
    "delay = sampling_rate * sequence_length  # the target is the day after the end of the sequence\n",
    "batch_size = 16"
   ]
  },
  {
   "cell_type": "code",
   "execution_count": 11,
   "metadata": {
    "colab": {
     "base_uri": "https://localhost:8080/"
    },
    "id": "cRDGWNYl_a0Q",
    "outputId": "126b8150-1e10-4f4d-afd1-0666658a6796"
   },
   "outputs": [
    {
     "name": "stdout",
     "output_type": "stream",
     "text": [
      "X shape: (16, 14, 6)\n",
      "target shape: (16, 1)\n"
     ]
    }
   ],
   "source": [
    "train_dataset = keras.utils.timeseries_dataset_from_array(\n",
    "    data[:-delay],\n",
    "    targets=y[delay:],\n",
    "    sampling_rate=sampling_rate, sequence_length=sequence_length,\n",
    "    batch_size=batch_size,\n",
    "    start_index=0, end_index=n_tr  # first 50% for training\n",
    "    )\n",
    "\n",
    "val_dataset = keras.utils.timeseries_dataset_from_array(\n",
    "    data[:-delay],\n",
    "    targets=y[delay:],\n",
    "    sampling_rate=sampling_rate, sequence_length=sequence_length,\n",
    "    batch_size=batch_size,\n",
    "    start_index=n_tr, end_index=n_tr+n_val  # 50%-80% for validation\n",
    "    )\n",
    "\n",
    "test_dataset = keras.utils.timeseries_dataset_from_array(\n",
    "    data[:-delay],\n",
    "    targets=y[delay:],\n",
    "    sampling_rate=sampling_rate, sequence_length=sequence_length,\n",
    "    batch_size=batch_size,\n",
    "    start_index=n_tr+n_val  # last 20% for test\n",
    "    )\n",
    "\n",
    "for X, target in train_dataset:\n",
    "    print(\"X shape:\", X.shape)\n",
    "    print(\"target shape:\", target.shape)\n",
    "    #print(X[:, :, y_idx] * std_tr[y_idx] + mean_tr[y_idx])\n",
    "    #print(target)\n",
    "    break  # so we only print once"
   ]
  },
  {
   "cell_type": "code",
   "execution_count": 12,
   "metadata": {
    "id": "u_v2rAW_W4kQ"
   },
   "outputs": [],
   "source": [
    "# Function to plot history with neural networks\n",
    "def plot_hist_regression(hist, y):\n",
    "  n_ = len(hist.history['mae'])\n",
    "  plt.plot(range(1, n_+1), np.asarray(hist.history['mae']), 'bo', label='MAE on training set')\n",
    "  plt.plot(range(1, n_+1), np.asarray(hist.history['val_mae']), 'b', label='MAE on validation set')\n",
    "  plt.legend()\n",
    "  plt.xlabel(\"Epoch\") \n",
    "  plt.ylabel(\"MAE (degrees)\")\n",
    "  plt.axhline(y=y)\n",
    "  plt.show()\n"
   ]
  },
  {
   "cell_type": "markdown",
   "metadata": {
    "id": "WlhjIvZR_a0Q"
   },
   "source": [
    "## Establishing a baseline\n"
   ]
  },
  {
   "cell_type": "markdown",
   "metadata": {
    "id": "rloJamyvWPWj"
   },
   "source": [
    "### Common sense, no ML baseline\n",
    "\n",
    "- Sanity check\n",
    "- To establish whether ML methods are actually any good\n",
    "\n",
    "Tomorrow's temperature is likely to be close to today's: let's predict that the temperature 24 hours from now will be equal to the temperature right now.\n",
    "\n",
    "We'll use the MAE as metric"
   ]
  },
  {
   "cell_type": "code",
   "execution_count": 13,
   "metadata": {
    "colab": {
     "base_uri": "https://localhost:8080/"
    },
    "id": "MUY5acIf_a0Q",
    "outputId": "dcdc5e72-a117-43ca-c7f5-7c31437c7444"
   },
   "outputs": [
    {
     "name": "stdout",
     "output_type": "stream",
     "text": [
      "MAE on train set = 2.56 (degrees Celsius)\n",
      "MAE on validation set = 2.69 (degrees Celsius)\n",
      "MAE on test set = 2.85 (degrees Celsius)\n"
     ]
    }
   ],
   "source": [
    "def naive_method(dataset, mean, std):\n",
    "    error = 0\n",
    "    samples = 0\n",
    "    count = 0\n",
    "    for X, target in dataset:\n",
    "        pred = X[:, -1, y_idx] * std + mean  # predict last available temperature and un-standardise\n",
    "        #print(X.shape, target.shape, pred.shape)  # [batch_size, sequence_length, n_feats]\n",
    "        #print(X[:, -1, y_idx] * std + mean, target)\n",
    "        error += np.sum(np.abs(pred - target))\n",
    "        samples += X.shape[0]  # batch_size\n",
    "        count += 1\n",
    "    return error / samples / batch_size # average\n",
    "\n",
    "\n",
    "print('MAE on train set = %.2f (degrees Celsius)' % naive_method(train_dataset, mean_tr[y_idx], std_tr[y_idx]))\n",
    "print('MAE on validation set = %.2f (degrees Celsius)' % naive_method(val_dataset, mean_tr[y_idx], std_tr[y_idx]))\n",
    "print('MAE on test set = %.2f (degrees Celsius)' % naive_method(test_dataset, mean_tr[y_idx], std_tr[y_idx]))\n",
    "# Save MAE on validation for later\n",
    "baseline = naive_method(val_dataset, mean_tr[y_idx], std_tr[y_idx])"
   ]
  },
  {
   "cell_type": "markdown",
   "metadata": {
    "id": "znycUtxiJmAF"
   },
   "source": [
    "This baseline achieves a validation MAE of 2.69 degrees and a test MAE of 2.85 degrees. So if we assume that tomorrow's temperature will be the same as today's, we'll be off by less than 3 degrees on average.\n",
    "\n",
    "Not too bad, but surely we can do better!"
   ]
  },
  {
   "cell_type": "markdown",
   "metadata": {
    "id": "7c-duA1Z_a0R"
   },
   "source": [
    "### Simple ML baseline\n",
    "\n",
    "\n"
   ]
  },
  {
   "cell_type": "code",
   "execution_count": 14,
   "metadata": {
    "colab": {
     "base_uri": "https://localhost:8080/"
    },
    "id": "fWGqpICHJlRe",
    "outputId": "23ab2130-e029-42ac-95ae-a1174fb801d5"
   },
   "outputs": [
    {
     "name": "stdout",
     "output_type": "stream",
     "text": [
      "Model: \"sequential\"\n",
      "_________________________________________________________________\n",
      " Layer (type)                Output Shape              Param #   \n",
      "=================================================================\n",
      " flatten (Flatten)           (None, 84)                0         \n",
      "                                                                 \n",
      " dense (Dense)               (None, 10)                850       \n",
      "                                                                 \n",
      " dense_1 (Dense)             (None, 1)                 11        \n",
      "                                                                 \n",
      "=================================================================\n",
      "Total params: 861\n",
      "Trainable params: 861\n",
      "Non-trainable params: 0\n",
      "_________________________________________________________________\n"
     ]
    }
   ],
   "source": [
    "# To get some practice with neural networks, we'll try a 1-layer NN with nothing fancy.\n",
    "\n",
    "model_dense = models.Sequential()\n",
    "model_dense.add(layers.Flatten(input_shape=(sequence_length, len(df.columns)-1)))  # we need to specify the input shape or we won't be able to see the summary\n",
    "model_dense.add(layers.Dense(10, activation='relu'))\n",
    "model_dense.add(layers.Dense(1))\n",
    "\n",
    "model_dense.summary()"
   ]
  },
  {
   "cell_type": "code",
   "execution_count": 15,
   "metadata": {
    "colab": {
     "base_uri": "https://localhost:8080/"
    },
    "id": "p0Hz1rX8LMfT",
    "outputId": "e9674789-48af-4682-f7fa-aec2fc10cb4a"
   },
   "outputs": [
    {
     "name": "stdout",
     "output_type": "stream",
     "text": [
      "Epoch 1/20\n",
      "80/80 [==============================] - 1s 4ms/step - loss: 126.8127 - mae: 10.2657 - val_loss: 109.8146 - val_mae: 9.4529\n",
      "Epoch 2/20\n",
      "80/80 [==============================] - 0s 2ms/step - loss: 93.0313 - mae: 8.8248 - val_loss: 80.5413 - val_mae: 8.1062\n",
      "Epoch 3/20\n",
      "80/80 [==============================] - 0s 2ms/step - loss: 64.1880 - mae: 7.2171 - val_loss: 55.9712 - val_mae: 6.5711\n",
      "Epoch 4/20\n",
      "80/80 [==============================] - 0s 2ms/step - loss: 44.4433 - mae: 5.7543 - val_loss: 40.9969 - val_mae: 5.3615\n",
      "Epoch 5/20\n",
      "80/80 [==============================] - 0s 2ms/step - loss: 34.8502 - mae: 4.9096 - val_loss: 33.6154 - val_mae: 4.7675\n",
      "Epoch 6/20\n",
      "80/80 [==============================] - 0s 2ms/step - loss: 30.1206 - mae: 4.5214 - val_loss: 29.8021 - val_mae: 4.4409\n",
      "Epoch 7/20\n",
      "80/80 [==============================] - 0s 2ms/step - loss: 26.9423 - mae: 4.2711 - val_loss: 27.3845 - val_mae: 4.2502\n",
      "Epoch 8/20\n",
      "80/80 [==============================] - 0s 2ms/step - loss: 24.4813 - mae: 4.0714 - val_loss: 25.4690 - val_mae: 4.0889\n",
      "Epoch 9/20\n",
      "80/80 [==============================] - 0s 2ms/step - loss: 22.4200 - mae: 3.8940 - val_loss: 23.6799 - val_mae: 3.9304\n",
      "Epoch 10/20\n",
      "80/80 [==============================] - 0s 2ms/step - loss: 20.5743 - mae: 3.7212 - val_loss: 21.9309 - val_mae: 3.7636\n",
      "Epoch 11/20\n",
      "80/80 [==============================] - 0s 2ms/step - loss: 18.9342 - mae: 3.5574 - val_loss: 20.3547 - val_mae: 3.6160\n",
      "Epoch 12/20\n",
      "80/80 [==============================] - 0s 2ms/step - loss: 17.5126 - mae: 3.4122 - val_loss: 18.9173 - val_mae: 3.4771\n",
      "Epoch 13/20\n",
      "80/80 [==============================] - 0s 2ms/step - loss: 16.2666 - mae: 3.2834 - val_loss: 17.6307 - val_mae: 3.3523\n",
      "Epoch 14/20\n",
      "80/80 [==============================] - 0s 2ms/step - loss: 15.1933 - mae: 3.1696 - val_loss: 16.5678 - val_mae: 3.2542\n",
      "Epoch 15/20\n",
      "80/80 [==============================] - 0s 2ms/step - loss: 14.2599 - mae: 3.0690 - val_loss: 15.6728 - val_mae: 3.1687\n",
      "Epoch 16/20\n",
      "80/80 [==============================] - 0s 2ms/step - loss: 13.4481 - mae: 2.9759 - val_loss: 14.9003 - val_mae: 3.0898\n",
      "Epoch 17/20\n",
      "80/80 [==============================] - 0s 2ms/step - loss: 12.7385 - mae: 2.8929 - val_loss: 14.2511 - val_mae: 3.0242\n",
      "Epoch 18/20\n",
      "80/80 [==============================] - 0s 2ms/step - loss: 12.1244 - mae: 2.8166 - val_loss: 13.7129 - val_mae: 2.9689\n",
      "Epoch 19/20\n",
      "80/80 [==============================] - 0s 2ms/step - loss: 11.5786 - mae: 2.7464 - val_loss: 13.2308 - val_mae: 2.9210\n",
      "Epoch 20/20\n",
      "80/80 [==============================] - 0s 2ms/step - loss: 11.1049 - mae: 2.6851 - val_loss: 12.8248 - val_mae: 2.8787\n"
     ]
    }
   ],
   "source": [
    "n_epochs = 20\n",
    "\n",
    "model_dense.compile(optimizer='rmsprop', loss='mse', metrics=['mae'])\n",
    "history_dense = model_dense.fit(train_dataset, epochs=n_epochs, validation_data=val_dataset)"
   ]
  },
  {
   "cell_type": "code",
   "execution_count": 16,
   "metadata": {
    "colab": {
     "base_uri": "https://localhost:8080/",
     "height": 283
    },
    "id": "aBRYn-AKMCi4",
    "outputId": "7c1891b1-da33-4052-e71b-e0876c7bdbca"
   },
   "outputs": [
    {
     "data": {
      "image/png": "[encoded data removed]",
      "text/plain": [
       "<Figure size 432x288 with 1 Axes>"
      ]
     },
     "metadata": {
      "needs_background": "light"
     },
     "output_type": "display_data"
    }
   ],
   "source": [
    "# Plot MAE cures for validation and training\n",
    "plot_hist_regression(history_dense, baseline)"
   ]
  },
  {
   "cell_type": "markdown",
   "metadata": {
    "id": "1EJywOA5NJa9"
   },
   "source": [
    "Validation loss is worse than what we had with our common-sense baseline, and we're already overfitting (MAE on training set is lower than on validation set). It turns out our previous baseline is not as easy to outperform as we thought!\n",
    "\n",
    "Remember our 'hypothesis space'? Using 2 Dense layers doesn't seem to be very useful in this case. We need other types of layers for this problem."
   ]
  },
  {
   "cell_type": "code",
   "execution_count": 17,
   "metadata": {
    "colab": {
     "base_uri": "https://localhost:8080/"
    },
    "id": "k6PADykQPIjq",
    "outputId": "0c3d48b1-f910-4648-d08e-e6147fc3b5b6"
   },
   "outputs": [
    {
     "name": "stdout",
     "output_type": "stream",
     "text": [
      "Model: \"sequential_1\"\n",
      "_________________________________________________________________\n",
      " Layer (type)                Output Shape              Param #   \n",
      "=================================================================\n",
      " conv1d (Conv1D)             (None, 8, 8)              344       \n",
      "                                                                 \n",
      " max_pooling1d (MaxPooling1D  (None, 4, 8)             0         \n",
      " )                                                               \n",
      "                                                                 \n",
      " conv1d_1 (Conv1D)           (None, 2, 8)              200       \n",
      "                                                                 \n",
      " max_pooling1d_1 (MaxPooling  (None, 1, 8)             0         \n",
      " 1D)                                                             \n",
      "                                                                 \n",
      " global_average_pooling1d (G  (None, 8)                0         \n",
      " lobalAveragePooling1D)                                          \n",
      "                                                                 \n",
      " dense_2 (Dense)             (None, 1)                 9         \n",
      "                                                                 \n",
      "=================================================================\n",
      "Total params: 553\n",
      "Trainable params: 553\n",
      "Non-trainable params: 0\n",
      "_________________________________________________________________\n"
     ]
    }
   ],
   "source": [
    "# We know that CNNs take advantage of neighbouring values, so why don't we try that?\n",
    "\n",
    "# In addition to the Conv2D layers we saw last week, there are Conv1D and Conv3D layers. \n",
    "# Conv1D layers rely on 1D windows that slide across an input sequence (imagine a 1D image)\n",
    "\n",
    "model_cnn = models.Sequential()\n",
    "model_cnn.add(layers.Conv1D(8, 7, activation='relu', input_shape=(sequence_length, len(df.columns)-1)))\n",
    "model_cnn.add(layers.MaxPooling1D(2))\n",
    "model_cnn.add(layers.Conv1D(8, 3, activation='relu'))\n",
    "model_cnn.add(layers.MaxPooling1D(2))\n",
    "model_cnn.add(layers.GlobalAveragePooling1D())\n",
    "model_cnn.add(layers.Dense(1))\n",
    "\n",
    "model_cnn.summary()"
   ]
  },
  {
   "cell_type": "code",
   "execution_count": 18,
   "metadata": {
    "colab": {
     "base_uri": "https://localhost:8080/"
    },
    "id": "PSGRJSulQs22",
    "outputId": "44faf343-33d6-44d4-8d70-2ae98c010db0"
   },
   "outputs": [
    {
     "name": "stdout",
     "output_type": "stream",
     "text": [
      "Epoch 1/20\n",
      "80/80 [==============================] - 1s 4ms/step - loss: 122.3145 - mae: 9.6428 - val_loss: 87.5745 - val_mae: 7.7767\n",
      "Epoch 2/20\n",
      "80/80 [==============================] - 0s 2ms/step - loss: 55.7947 - mae: 6.3660 - val_loss: 34.6477 - val_mae: 4.8271\n",
      "Epoch 3/20\n",
      "80/80 [==============================] - 0s 2ms/step - loss: 19.4983 - mae: 3.6641 - val_loss: 20.5644 - val_mae: 3.3744\n",
      "Epoch 4/20\n",
      "80/80 [==============================] - 0s 2ms/step - loss: 15.7997 - mae: 3.2122 - val_loss: 19.3541 - val_mae: 3.2128\n",
      "Epoch 5/20\n",
      "80/80 [==============================] - 0s 2ms/step - loss: 14.3494 - mae: 3.0391 - val_loss: 18.2034 - val_mae: 3.1046\n",
      "Epoch 6/20\n",
      "80/80 [==============================] - 0s 2ms/step - loss: 13.2550 - mae: 2.9028 - val_loss: 17.2723 - val_mae: 3.0287\n",
      "Epoch 7/20\n",
      "80/80 [==============================] - 0s 3ms/step - loss: 12.4694 - mae: 2.8108 - val_loss: 16.5550 - val_mae: 2.9705\n",
      "Epoch 8/20\n",
      "80/80 [==============================] - 0s 2ms/step - loss: 11.8914 - mae: 2.7475 - val_loss: 15.8941 - val_mae: 2.9265\n",
      "Epoch 9/20\n",
      "80/80 [==============================] - 0s 2ms/step - loss: 11.4540 - mae: 2.7012 - val_loss: 15.3472 - val_mae: 2.8937\n",
      "Epoch 10/20\n",
      "80/80 [==============================] - 0s 2ms/step - loss: 11.0854 - mae: 2.6614 - val_loss: 14.8918 - val_mae: 2.8661\n",
      "Epoch 11/20\n",
      "80/80 [==============================] - 0s 2ms/step - loss: 10.7462 - mae: 2.6218 - val_loss: 14.4608 - val_mae: 2.8396\n",
      "Epoch 12/20\n",
      "80/80 [==============================] - 0s 2ms/step - loss: 10.4651 - mae: 2.5878 - val_loss: 14.1066 - val_mae: 2.8164\n",
      "Epoch 13/20\n",
      "80/80 [==============================] - 0s 3ms/step - loss: 10.1972 - mae: 2.5554 - val_loss: 13.7801 - val_mae: 2.7955\n",
      "Epoch 14/20\n",
      "80/80 [==============================] - 0s 2ms/step - loss: 9.9587 - mae: 2.5254 - val_loss: 13.5437 - val_mae: 2.7768\n",
      "Epoch 15/20\n",
      "80/80 [==============================] - 0s 2ms/step - loss: 9.7462 - mae: 2.4979 - val_loss: 13.3593 - val_mae: 2.7593\n",
      "Epoch 16/20\n",
      "80/80 [==============================] - 0s 2ms/step - loss: 9.5347 - mae: 2.4693 - val_loss: 13.2119 - val_mae: 2.7436\n",
      "Epoch 17/20\n",
      "80/80 [==============================] - 0s 2ms/step - loss: 9.3354 - mae: 2.4431 - val_loss: 13.0755 - val_mae: 2.7312\n",
      "Epoch 18/20\n",
      "80/80 [==============================] - 0s 2ms/step - loss: 9.1508 - mae: 2.4181 - val_loss: 12.9232 - val_mae: 2.7194\n",
      "Epoch 19/20\n",
      "80/80 [==============================] - 0s 2ms/step - loss: 8.9734 - mae: 2.3941 - val_loss: 12.7319 - val_mae: 2.7063\n",
      "Epoch 20/20\n",
      "80/80 [==============================] - 0s 2ms/step - loss: 8.8208 - mae: 2.3726 - val_loss: 12.5629 - val_mae: 2.6939\n"
     ]
    }
   ],
   "source": [
    "model_cnn.compile(optimizer='rmsprop', loss='mse', metrics=['mae'])\n",
    "history_cnn = model_cnn.fit(train_dataset, epochs=n_epochs,\n",
    "                            validation_data=val_dataset)"
   ]
  },
  {
   "cell_type": "code",
   "execution_count": 19,
   "metadata": {
    "colab": {
     "base_uri": "https://localhost:8080/",
     "height": 279
    },
    "id": "6bB6lzLYSG-u",
    "outputId": "8062cd61-ad7a-45a8-c123-048505f8985e"
   },
   "outputs": [
    {
     "data": {
      "image/png": "[encoded data removed]",
      "text/plain": [
       "<Figure size 432x288 with 1 Axes>"
      ]
     },
     "metadata": {
      "needs_background": "light"
     },
     "output_type": "display_data"
    }
   ],
   "source": [
    "# Plot MAE cures for validation and training\n",
    "plot_hist_regression(history_cnn, baseline)"
   ]
  },
  {
   "cell_type": "markdown",
   "metadata": {
    "id": "Kc2iMPSHViL1"
   },
   "source": [
    "This model isn't any better, with a validation MAE of 2.77 degrees (also worse than the 'common-sense approach' that we tried at first), and we're overfitting a bit too.\n",
    "\n",
    "Why?\n",
    "\n",
    "In timeseries, order matters a lot: the recent past is more informative than data from 5 days ago, and convolutional layers don't take advantage of this fact -- max pooling and global average pooling layers actually destroy this order information."
   ]
  },
  {
   "cell_type": "markdown",
   "metadata": {
    "id": "3ozUAZX__a0R"
   },
   "source": [
    "## Long Short Term Memory (LSTM) Neural Networks\n",
    "\n",
    "\n"
   ]
  },
  {
   "cell_type": "code",
   "execution_count": 20,
   "metadata": {
    "colab": {
     "base_uri": "https://localhost:8080/"
    },
    "id": "2dWfiaUw_a0R",
    "outputId": "dd802c62-1be0-45b4-8d14-1f2a606b0d55"
   },
   "outputs": [
    {
     "name": "stdout",
     "output_type": "stream",
     "text": [
      "Model: \"sequential_2\"\n",
      "_________________________________________________________________\n",
      " Layer (type)                Output Shape              Param #   \n",
      "=================================================================\n",
      " lstm (LSTM)                 (None, 20)                2160      \n",
      "                                                                 \n",
      " dense_3 (Dense)             (None, 1)                 21        \n",
      "                                                                 \n",
      "=================================================================\n",
      "Total params: 2,181\n",
      "Trainable params: 2,181\n",
      "Non-trainable params: 0\n",
      "_________________________________________________________________\n"
     ]
    }
   ],
   "source": [
    "# 1-layer LSTM\n",
    "\n",
    "model_lstm1 = models.Sequential()\n",
    "model_lstm1.add(layers.LSTM(20, input_shape=(sequence_length, len(df.columns)-1)))\n",
    "model_lstm1.add(layers.Dense(1))\n",
    "\n",
    "model_lstm1.summary()"
   ]
  },
  {
   "cell_type": "code",
   "execution_count": 21,
   "metadata": {
    "id": "DMst2Mp0R0Xi"
   },
   "outputs": [],
   "source": [
    "n_epochs = 20"
   ]
  },
  {
   "cell_type": "code",
   "execution_count": 22,
   "metadata": {
    "colab": {
     "base_uri": "https://localhost:8080/"
    },
    "id": "Pff2tZQHXb-z",
    "outputId": "7a1028ea-cda1-4359-dfa8-a986de309d50"
   },
   "outputs": [
    {
     "name": "stdout",
     "output_type": "stream",
     "text": [
      "Epoch 1/20\n",
      "80/80 [==============================] - 2s 8ms/step - loss: 136.5050 - mae: 10.5745 - val_loss: 113.0736 - val_mae: 9.5122\n",
      "Epoch 2/20\n",
      "80/80 [==============================] - 0s 4ms/step - loss: 90.3709 - mae: 8.4025 - val_loss: 65.8520 - val_mae: 6.6886\n",
      "Epoch 3/20\n",
      "80/80 [==============================] - 0s 4ms/step - loss: 55.7648 - mae: 6.2164 - val_loss: 46.8159 - val_mae: 5.3883\n",
      "Epoch 4/20\n",
      "80/80 [==============================] - 0s 4ms/step - loss: 41.7984 - mae: 5.3080 - val_loss: 37.6354 - val_mae: 4.8535\n",
      "Epoch 5/20\n",
      "80/80 [==============================] - 0s 4ms/step - loss: 32.8879 - mae: 4.6689 - val_loss: 30.6406 - val_mae: 4.3830\n",
      "Epoch 6/20\n",
      "80/80 [==============================] - 0s 4ms/step - loss: 26.2508 - mae: 4.1494 - val_loss: 25.3539 - val_mae: 4.0034\n",
      "Epoch 7/20\n",
      "80/80 [==============================] - 0s 5ms/step - loss: 21.1613 - mae: 3.7062 - val_loss: 21.2196 - val_mae: 3.6695\n",
      "Epoch 8/20\n",
      "80/80 [==============================] - 0s 4ms/step - loss: 17.1931 - mae: 3.3293 - val_loss: 17.8458 - val_mae: 3.3600\n",
      "Epoch 9/20\n",
      "80/80 [==============================] - 0s 4ms/step - loss: 14.2406 - mae: 3.0261 - val_loss: 15.3062 - val_mae: 3.1081\n",
      "Epoch 10/20\n",
      "80/80 [==============================] - 0s 5ms/step - loss: 12.0716 - mae: 2.7792 - val_loss: 13.3913 - val_mae: 2.9110\n",
      "Epoch 11/20\n",
      "80/80 [==============================] - 0s 4ms/step - loss: 10.4815 - mae: 2.5867 - val_loss: 11.8525 - val_mae: 2.7396\n",
      "Epoch 12/20\n",
      "80/80 [==============================] - 0s 4ms/step - loss: 9.1906 - mae: 2.4126 - val_loss: 10.5692 - val_mae: 2.5946\n",
      "Epoch 13/20\n",
      "80/80 [==============================] - 0s 4ms/step - loss: 8.1100 - mae: 2.2636 - val_loss: 9.5958 - val_mae: 2.4829\n",
      "Epoch 14/20\n",
      "80/80 [==============================] - 0s 4ms/step - loss: 7.3263 - mae: 2.1494 - val_loss: 8.8426 - val_mae: 2.3923\n",
      "Epoch 15/20\n",
      "80/80 [==============================] - 0s 4ms/step - loss: 6.7703 - mae: 2.0698 - val_loss: 8.2726 - val_mae: 2.3228\n",
      "Epoch 16/20\n",
      "80/80 [==============================] - 0s 4ms/step - loss: 6.3600 - mae: 2.0097 - val_loss: 7.8476 - val_mae: 2.2672\n",
      "Epoch 17/20\n",
      "80/80 [==============================] - 0s 4ms/step - loss: 6.0434 - mae: 1.9585 - val_loss: 7.4903 - val_mae: 2.2149\n",
      "Epoch 18/20\n",
      "80/80 [==============================] - 0s 4ms/step - loss: 5.7713 - mae: 1.9145 - val_loss: 7.1769 - val_mae: 2.1681\n",
      "Epoch 19/20\n",
      "80/80 [==============================] - 0s 4ms/step - loss: 5.5782 - mae: 1.8794 - val_loss: 6.9231 - val_mae: 2.1274\n",
      "Epoch 20/20\n",
      "80/80 [==============================] - 0s 5ms/step - loss: 5.3703 - mae: 1.8439 - val_loss: 6.6984 - val_mae: 2.0904\n"
     ]
    }
   ],
   "source": [
    "model_lstm1.compile(optimizer='rmsprop', loss='mse', metrics=['mae'])\n",
    "history_lstm1 = model_lstm1.fit(train_dataset, epochs=n_epochs,\n",
    "                            validation_data=val_dataset)"
   ]
  },
  {
   "cell_type": "code",
   "execution_count": 23,
   "metadata": {
    "colab": {
     "base_uri": "https://localhost:8080/",
     "height": 279
    },
    "id": "hr-bgDUvXmvS",
    "outputId": "9462df20-d32e-45db-ed9d-af5786c6ebdd"
   },
   "outputs": [
    {
     "data": {
      "image/png": "[encoded data removed]",
      "text/plain": [
       "<Figure size 432x288 with 1 Axes>"
      ]
     },
     "metadata": {
      "needs_background": "light"
     },
     "output_type": "display_data"
    }
   ],
   "source": [
    "# Plot MAE cures for validation and training\n",
    "plot_hist_regression(history_lstm1, baseline)\n"
   ]
  },
  {
   "cell_type": "code",
   "execution_count": 24,
   "metadata": {
    "colab": {
     "base_uri": "https://localhost:8080/"
    },
    "id": "0fFZvXXUcQ67",
    "outputId": "8ac06bad-6b70-4bb6-e4f2-964253e5fa03"
   },
   "outputs": [
    {
     "name": "stdout",
     "output_type": "stream",
     "text": [
      "31/31 [==============================] - 0s 1ms/step - loss: 8.0609 - mae: 2.2267\n",
      "Test MAE = 2.23 degrees\n"
     ]
    }
   ],
   "source": [
    "print('Test MAE = %.2f degrees' % model_lstm1.evaluate(test_dataset)[1])"
   ]
  },
  {
   "cell_type": "markdown",
   "metadata": {
    "id": "bYSWwI1aXvwL"
   },
   "source": [
    "Success! We finally beat the common-sense baseline! The validation MAE now is 2.12 degrees, and the test MAE is 2.27.\n",
    "\n",
    "Why do LSTM layers work? Let's go back to the slides"
   ]
  },
  {
   "cell_type": "code",
   "execution_count": 25,
   "metadata": {
    "colab": {
     "base_uri": "https://localhost:8080/"
    },
    "id": "acSYakeOcokB",
    "outputId": "2fb126f8-5e20-4748-884a-0ca6b8670f03"
   },
   "outputs": [
    {
     "name": "stdout",
     "output_type": "stream",
     "text": [
      "Model: \"sequential_3\"\n",
      "_________________________________________________________________\n",
      " Layer (type)                Output Shape              Param #   \n",
      "=================================================================\n",
      " lstm_1 (LSTM)               (None, 20)                2160      \n",
      "                                                                 \n",
      " dropout (Dropout)           (None, 20)                0         \n",
      "                                                                 \n",
      " dense_4 (Dense)             (None, 1)                 21        \n",
      "                                                                 \n",
      "=================================================================\n",
      "Total params: 2,181\n",
      "Trainable params: 2,181\n",
      "Non-trainable params: 0\n",
      "_________________________________________________________________\n"
     ]
    }
   ],
   "source": [
    "# Adding dropout\n",
    "\n",
    "model_lstm2 = models.Sequential()\n",
    "model_lstm2.add(layers.LSTM(20, input_shape=(sequence_length, len(df.columns)-1), recurrent_dropout=0.25))\n",
    "model_lstm2.add(layers.Dropout(0.4))\n",
    "model_lstm2.add(layers.Dense(1))\n",
    "\n",
    "model_lstm2.summary()"
   ]
  },
  {
   "cell_type": "code",
   "execution_count": 26,
   "metadata": {
    "colab": {
     "base_uri": "https://localhost:8080/"
    },
    "id": "LvRnf9TWSWf9",
    "outputId": "af247ccc-7255-4ca4-b8db-192913fc835a"
   },
   "outputs": [
    {
     "name": "stdout",
     "output_type": "stream",
     "text": [
      "Epoch 1/20\n",
      "80/80 [==============================] - 2s 9ms/step - loss: 139.0696 - mae: 10.6944 - val_loss: 115.4913 - val_mae: 9.6530\n",
      "Epoch 2/20\n",
      "80/80 [==============================] - 1s 7ms/step - loss: 89.6666 - mae: 8.3363 - val_loss: 61.6556 - val_mae: 6.3876\n",
      "Epoch 3/20\n",
      "80/80 [==============================] - 1s 7ms/step - loss: 54.0685 - mae: 6.1005 - val_loss: 44.7024 - val_mae: 5.2828\n",
      "Epoch 4/20\n",
      "80/80 [==============================] - 1s 7ms/step - loss: 41.5582 - mae: 5.2473 - val_loss: 35.7578 - val_mae: 4.7109\n",
      "Epoch 5/20\n",
      "80/80 [==============================] - 1s 6ms/step - loss: 33.9709 - mae: 4.7233 - val_loss: 29.5396 - val_mae: 4.2823\n",
      "Epoch 6/20\n",
      "80/80 [==============================] - 1s 7ms/step - loss: 28.6264 - mae: 4.3239 - val_loss: 24.8090 - val_mae: 3.9235\n",
      "Epoch 7/20\n",
      "80/80 [==============================] - 1s 7ms/step - loss: 24.0975 - mae: 3.9236 - val_loss: 21.0929 - val_mae: 3.6153\n",
      "Epoch 8/20\n",
      "80/80 [==============================] - 1s 7ms/step - loss: 21.9429 - mae: 3.7543 - val_loss: 18.0047 - val_mae: 3.3373\n",
      "Epoch 9/20\n",
      "80/80 [==============================] - 1s 6ms/step - loss: 18.6561 - mae: 3.4343 - val_loss: 16.0717 - val_mae: 3.1711\n",
      "Epoch 10/20\n",
      "80/80 [==============================] - 1s 7ms/step - loss: 15.8572 - mae: 3.1846 - val_loss: 13.9330 - val_mae: 2.9468\n",
      "Epoch 11/20\n",
      "80/80 [==============================] - 1s 6ms/step - loss: 15.4304 - mae: 3.0859 - val_loss: 12.4888 - val_mae: 2.8032\n",
      "Epoch 12/20\n",
      "80/80 [==============================] - 1s 7ms/step - loss: 13.7296 - mae: 2.9280 - val_loss: 11.5231 - val_mae: 2.7004\n",
      "Epoch 13/20\n",
      "80/80 [==============================] - 1s 6ms/step - loss: 12.7713 - mae: 2.8364 - val_loss: 10.8769 - val_mae: 2.6347\n",
      "Epoch 14/20\n",
      "80/80 [==============================] - 1s 7ms/step - loss: 12.5653 - mae: 2.7918 - val_loss: 10.0329 - val_mae: 2.5254\n",
      "Epoch 15/20\n",
      "80/80 [==============================] - 1s 7ms/step - loss: 12.4678 - mae: 2.7777 - val_loss: 9.2112 - val_mae: 2.4153\n",
      "Epoch 16/20\n",
      "80/80 [==============================] - 1s 7ms/step - loss: 12.2807 - mae: 2.8199 - val_loss: 8.8148 - val_mae: 2.3757\n",
      "Epoch 17/20\n",
      "80/80 [==============================] - 1s 7ms/step - loss: 11.5531 - mae: 2.7136 - val_loss: 8.5714 - val_mae: 2.3501\n",
      "Epoch 18/20\n",
      "80/80 [==============================] - 1s 7ms/step - loss: 11.5217 - mae: 2.6574 - val_loss: 8.0528 - val_mae: 2.2769\n",
      "Epoch 19/20\n",
      "80/80 [==============================] - 1s 7ms/step - loss: 11.3541 - mae: 2.6915 - val_loss: 7.5918 - val_mae: 2.1998\n",
      "Epoch 20/20\n",
      "80/80 [==============================] - 1s 7ms/step - loss: 10.8205 - mae: 2.6283 - val_loss: 7.6028 - val_mae: 2.2122\n"
     ]
    }
   ],
   "source": [
    "model_lstm2.compile(optimizer='rmsprop', loss='mse', metrics=['mae'])\n",
    "history_lstm2 = model_lstm2.fit(train_dataset, epochs=n_epochs,\n",
    "                            validation_data=val_dataset)"
   ]
  },
  {
   "cell_type": "code",
   "execution_count": 27,
   "metadata": {
    "colab": {
     "base_uri": "https://localhost:8080/",
     "height": 279
    },
    "id": "cWpm-j9iSck1",
    "outputId": "cf66d132-b95f-456c-d6a4-86c9d28a5aef"
   },
   "outputs": [
    {
     "data": {
      "image/png": "[encoded data removed]",
      "text/plain": [
       "<Figure size 432x288 with 1 Axes>"
      ]
     },
     "metadata": {
      "needs_background": "light"
     },
     "output_type": "display_data"
    }
   ],
   "source": [
    "# Plot MAE cures for validation and training\n",
    "plot_hist_regression(history_lstm2, baseline)"
   ]
  },
  {
   "cell_type": "code",
   "execution_count": 28,
   "metadata": {
    "colab": {
     "base_uri": "https://localhost:8080/"
    },
    "id": "rAIQrQDVSmSM",
    "outputId": "8008e969-28d8-48e4-a402-720ada6f59a8"
   },
   "outputs": [
    {
     "name": "stdout",
     "output_type": "stream",
     "text": [
      "31/31 [==============================] - 0s 2ms/step - loss: 8.1866 - mae: 2.2164\n",
      "Test MAE = 2.22 degrees\n"
     ]
    }
   ],
   "source": [
    "print('Test MAE = %.2f degrees' % model_lstm2.evaluate(test_dataset)[1])"
   ]
  },
  {
   "cell_type": "markdown",
   "metadata": {
    "id": "H3OrpvE3S4gM"
   },
   "source": [
    "Note that validation set MAE is now lower than MAE on training set -- no longer overfitting. Validation MAE is 2.16 and test MAE is also 2.16.\n",
    "\n",
    "NOTE: This is a very simple dataset with very small differences in performance between different models.  You'll just have to take my word for it that *in general* this approach works. "
   ]
  },
  {
   "cell_type": "code",
   "execution_count": 29,
   "metadata": {
    "colab": {
     "base_uri": "https://localhost:8080/"
    },
    "id": "jq_ZDTttTX6_",
    "outputId": "3178ee55-e729-4191-b765-4e81bec2a291"
   },
   "outputs": [
    {
     "name": "stdout",
     "output_type": "stream",
     "text": [
      "Model: \"sequential_4\"\n",
      "_________________________________________________________________\n",
      " Layer (type)                Output Shape              Param #   \n",
      "=================================================================\n",
      " lstm_2 (LSTM)               (None, 14, 20)            2160      \n",
      "                                                                 \n",
      " lstm_3 (LSTM)               (None, 20)                3280      \n",
      "                                                                 \n",
      " dropout_1 (Dropout)         (None, 20)                0         \n",
      "                                                                 \n",
      " dense_5 (Dense)             (None, 1)                 21        \n",
      "                                                                 \n",
      "=================================================================\n",
      "Total params: 5,461\n",
      "Trainable params: 5,461\n",
      "Non-trainable params: 0\n",
      "_________________________________________________________________\n"
     ]
    }
   ],
   "source": [
    "# Performance in the previous figure can (maybe) still be improved\n",
    "# Let's try to add some more layers -- we can do this now that we're no longer overfitting\n",
    "\n",
    "model_lstm3 = models.Sequential()\n",
    "model_lstm3.add(layers.LSTM(20, input_shape=(sequence_length, len(df.columns)-1), recurrent_dropout=0.25, return_sequences=True))  # NEW!\n",
    "model_lstm3.add(layers.LSTM(20, input_shape=(sequence_length, len(df.columns)-1), recurrent_dropout=0.25))  # NEW!!\n",
    "model_lstm3.add(layers.Dropout(0.4))\n",
    "model_lstm3.add(layers.Dense(1))\n",
    "model_lstm3.summary()"
   ]
  },
  {
   "cell_type": "code",
   "execution_count": 30,
   "metadata": {
    "colab": {
     "base_uri": "https://localhost:8080/"
    },
    "id": "9xQXChtNUxzh",
    "outputId": "47adf7db-d1ea-4cbe-f2b2-2ea09bbbb96f"
   },
   "outputs": [
    {
     "name": "stdout",
     "output_type": "stream",
     "text": [
      "Epoch 1/60\n",
      "80/80 [==============================] - 4s 15ms/step - loss: 121.2052 - mae: 9.7392 - val_loss: 79.5140 - val_mae: 7.4070\n",
      "Epoch 2/60\n",
      "80/80 [==============================] - 1s 12ms/step - loss: 64.5018 - mae: 6.7079 - val_loss: 49.6236 - val_mae: 5.5647\n",
      "Epoch 3/60\n",
      "80/80 [==============================] - 1s 12ms/step - loss: 45.4146 - mae: 5.5360 - val_loss: 39.0661 - val_mae: 4.9350\n",
      "Epoch 4/60\n",
      "80/80 [==============================] - 1s 11ms/step - loss: 36.9208 - mae: 4.9366 - val_loss: 32.8080 - val_mae: 4.5512\n",
      "Epoch 5/60\n",
      "80/80 [==============================] - 1s 12ms/step - loss: 30.9738 - mae: 4.5103 - val_loss: 29.5145 - val_mae: 4.4181\n",
      "Epoch 6/60\n",
      "80/80 [==============================] - 1s 11ms/step - loss: 27.0655 - mae: 4.1839 - val_loss: 24.8961 - val_mae: 4.0532\n",
      "Epoch 7/60\n",
      "80/80 [==============================] - 1s 11ms/step - loss: 22.9412 - mae: 3.8604 - val_loss: 20.6043 - val_mae: 3.6454\n",
      "Epoch 8/60\n",
      "80/80 [==============================] - 1s 11ms/step - loss: 20.9396 - mae: 3.6632 - val_loss: 18.2922 - val_mae: 3.4384\n",
      "Epoch 9/60\n",
      "80/80 [==============================] - 1s 11ms/step - loss: 18.8692 - mae: 3.4465 - val_loss: 16.1408 - val_mae: 3.2204\n",
      "Epoch 10/60\n",
      "80/80 [==============================] - 1s 11ms/step - loss: 16.8410 - mae: 3.2615 - val_loss: 15.7912 - val_mae: 3.2226\n",
      "Epoch 11/60\n",
      "80/80 [==============================] - 1s 11ms/step - loss: 16.3269 - mae: 3.2065 - val_loss: 13.8167 - val_mae: 2.9985\n",
      "Epoch 12/60\n",
      "80/80 [==============================] - 1s 11ms/step - loss: 14.1893 - mae: 3.0257 - val_loss: 12.0731 - val_mae: 2.7868\n",
      "Epoch 13/60\n",
      "80/80 [==============================] - 1s 12ms/step - loss: 13.3500 - mae: 2.9167 - val_loss: 11.5348 - val_mae: 2.7386\n",
      "Epoch 14/60\n",
      "80/80 [==============================] - 1s 11ms/step - loss: 12.3437 - mae: 2.7629 - val_loss: 10.7037 - val_mae: 2.6370\n",
      "Epoch 15/60\n",
      "80/80 [==============================] - 1s 12ms/step - loss: 12.3002 - mae: 2.7794 - val_loss: 10.2524 - val_mae: 2.5848\n",
      "Epoch 16/60\n",
      "80/80 [==============================] - 1s 11ms/step - loss: 12.0738 - mae: 2.7704 - val_loss: 9.1691 - val_mae: 2.4385\n",
      "Epoch 17/60\n",
      "80/80 [==============================] - 1s 11ms/step - loss: 11.5084 - mae: 2.7142 - val_loss: 8.9773 - val_mae: 2.4229\n",
      "Epoch 18/60\n",
      "80/80 [==============================] - 1s 11ms/step - loss: 10.9554 - mae: 2.6376 - val_loss: 8.5247 - val_mae: 2.3603\n",
      "Epoch 19/60\n",
      "80/80 [==============================] - 1s 12ms/step - loss: 11.3777 - mae: 2.6910 - val_loss: 8.3430 - val_mae: 2.3340\n",
      "Epoch 20/60\n",
      "80/80 [==============================] - 1s 12ms/step - loss: 10.6346 - mae: 2.5678 - val_loss: 8.0082 - val_mae: 2.2881\n",
      "Epoch 21/60\n",
      "80/80 [==============================] - 1s 11ms/step - loss: 11.2465 - mae: 2.6522 - val_loss: 7.5882 - val_mae: 2.2237\n",
      "Epoch 22/60\n",
      "80/80 [==============================] - 1s 11ms/step - loss: 10.4497 - mae: 2.5836 - val_loss: 7.3260 - val_mae: 2.1787\n",
      "Epoch 23/60\n",
      "80/80 [==============================] - 1s 11ms/step - loss: 9.9736 - mae: 2.4832 - val_loss: 7.6592 - val_mae: 2.2425\n",
      "Epoch 24/60\n",
      "80/80 [==============================] - 1s 11ms/step - loss: 9.8654 - mae: 2.4944 - val_loss: 7.1156 - val_mae: 2.1532\n",
      "Epoch 25/60\n",
      "80/80 [==============================] - 1s 12ms/step - loss: 9.6349 - mae: 2.4633 - val_loss: 6.7480 - val_mae: 2.0853\n",
      "Epoch 26/60\n",
      "80/80 [==============================] - 1s 12ms/step - loss: 8.8033 - mae: 2.3973 - val_loss: 6.5685 - val_mae: 2.0423\n",
      "Epoch 27/60\n",
      "80/80 [==============================] - 1s 12ms/step - loss: 9.6427 - mae: 2.4475 - val_loss: 6.4613 - val_mae: 2.0237\n",
      "Epoch 28/60\n",
      "80/80 [==============================] - 1s 13ms/step - loss: 8.9662 - mae: 2.4160 - val_loss: 6.1170 - val_mae: 1.9596\n",
      "Epoch 29/60\n",
      "80/80 [==============================] - 1s 11ms/step - loss: 9.6768 - mae: 2.4405 - val_loss: 5.8318 - val_mae: 1.9174\n",
      "Epoch 30/60\n",
      "80/80 [==============================] - 1s 11ms/step - loss: 8.5517 - mae: 2.2778 - val_loss: 6.3089 - val_mae: 1.9824\n",
      "Epoch 31/60\n",
      "80/80 [==============================] - 1s 13ms/step - loss: 8.3102 - mae: 2.2847 - val_loss: 6.1609 - val_mae: 1.9635\n"
     ]
    }
   ],
   "source": [
    "model_lstm3.compile(optimizer='rmsprop', loss='mse', metrics=['mae'])\n",
    "\n",
    "callbacks = [EarlyStopping(monitor='val_mae', patience=2)]\n",
    "\n",
    "history_lstm3 = model_lstm3.fit(train_dataset, epochs=60,  # increased number of epochs\n",
    "                            validation_data=val_dataset,\n",
    "                            callbacks=callbacks)  # but added early stopping callback\n"
   ]
  },
  {
   "cell_type": "code",
   "execution_count": 31,
   "metadata": {
    "colab": {
     "base_uri": "https://localhost:8080/",
     "height": 314
    },
    "id": "PtFfB3YaU4k3",
    "outputId": "eb5fd379-362d-4cb4-d846-d6d264dccab1"
   },
   "outputs": [
    {
     "data": {
      "image/png": "[encoded data removed]",
      "text/plain": [
       "<Figure size 432x288 with 1 Axes>"
      ]
     },
     "metadata": {
      "needs_background": "light"
     },
     "output_type": "display_data"
    },
    {
     "name": "stdout",
     "output_type": "stream",
     "text": [
      "31/31 [==============================] - 0s 2ms/step - loss: 6.7846 - mae: 1.9904\n",
      "Test MAE = 1.99 degrees\n"
     ]
    }
   ],
   "source": [
    "# Plot MAE cures for validation and training\n",
    "plot_hist_regression(history_lstm3, baseline)\n",
    "print('Test MAE = %.2f degrees' % model_lstm3.evaluate(test_dataset)[1])"
   ]
  },
  {
   "cell_type": "markdown",
   "metadata": {
    "id": "eUJqRqp1XJnL"
   },
   "source": [
    "Validation MAE = 1.92 degrees\n",
    "\n",
    "Test MAE = 1.89 degrees\n"
   ]
  },
  {
   "cell_type": "markdown",
   "metadata": {
    "id": "zGEuNqw2csXj"
   },
   "source": [
    "# Text"
   ]
  },
  {
   "cell_type": "markdown",
   "metadata": {
    "id": "dtv0EjsTbwvm"
   },
   "source": [
    "## Data prep\n",
    "\n",
    "We'll try to predict whether the review for a movie is positive or negative looking only at the text of the review.\n",
    "\n",
    "We'll use the IMDB text dataset for this task, which is available on `keras.datasets` and described [here](https://keras.io/api/datasets/imdb/). \n",
    "\n",
    "We'll merge the training and test sets and use 60% for training, 20% for validation, and 20% for testing.\n",
    "\n",
    "\n",
    "As this is a binary classificationp problem, we'll use the binary cross entropy loss function. We will keep track of accuracy when training and evaluating the model.\n"
   ]
  },
  {
   "cell_type": "code",
   "execution_count": 32,
   "metadata": {
    "id": "i-mH-8IGwGo1"
   },
   "outputs": [],
   "source": [
    "def plot_hist_classif(hist):\n",
    "  n_ = len(hist.history['accuracy'])\n",
    "  plt.plot(range(1, n_+1), 100*np.asarray(hist.history['accuracy']), 'bo', label='Accuracy on training set')\n",
    "  plt.plot(range(1, n_+1), 100*np.asarray(hist.history['val_accuracy']), 'b', label='Accuracy on validation set')\n",
    "  plt.legend()\n",
    "  plt.xlabel(\"Epoch\") \n",
    "  plt.ylabel(\"Accuracy\")\n",
    "  plt.ylim(0, 100)\n",
    "  plt.axhline(y=50)\n",
    "  plt.show()\n"
   ]
  },
  {
   "cell_type": "code",
   "execution_count": 33,
   "metadata": {
    "colab": {
     "base_uri": "https://localhost:8080/"
    },
    "id": "4TW3Vg49n5V-",
    "outputId": "3807222c-72f1-48b9-ec7e-a45788dc5790"
   },
   "outputs": [
    {
     "name": "stdout",
     "output_type": "stream",
     "text": [
      "Loading data...\n",
      "25000 train sequences (25000,)\n",
      "25000 test sequences (25000,)\n"
     ]
    }
   ],
   "source": [
    "max_features = 15000  # only consider the top 15k words\n",
    "maxlen = 500  # first 500 words of each review\n",
    "batch_size = 32\n",
    "\n",
    "print('Loading data...')\n",
    "# Load dataset\n",
    "(x_train, y_train), (x_test, y_test) = keras.datasets.imdb.load_data(num_words=max_features)\n",
    "print(len(x_train), 'train sequences', x_train.shape)\n",
    "print(len(x_test), 'test sequences', x_test.shape)"
   ]
  },
  {
   "cell_type": "code",
   "execution_count": 34,
   "metadata": {
    "colab": {
     "base_uri": "https://localhost:8080/"
    },
    "id": "8ApTb-jYtSOm",
    "outputId": "f51644cd-02a1-4c35-d903-5fc0d68a3b9b"
   },
   "outputs": [
    {
     "name": "stdout",
     "output_type": "stream",
     "text": [
      "0.5\n",
      "0.5\n"
     ]
    }
   ],
   "source": [
    "# How balanced is this dataset?\n",
    "print(np.sum(y_train)/len(y_train))\n",
    "print(np.sum(y_test)/len(y_test))"
   ]
  },
  {
   "cell_type": "code",
   "execution_count": 35,
   "metadata": {
    "colab": {
     "base_uri": "https://localhost:8080/"
    },
    "id": "Z53Fbicqr8tm",
    "outputId": "4d7c9122-1eca-46cb-a708-cfe4681d93c8"
   },
   "outputs": [
    {
     "name": "stdout",
     "output_type": "stream",
     "text": [
      "(50000,) (50000,)\n",
      "30000 train sequences (30000,)\n",
      "10000 validation sequences (10000,)\n",
      "10000 test sequences (10000,)\n"
     ]
    }
   ],
   "source": [
    "# Merge the two datasets and divide: 60% for training, 20% validation, 20% test\n",
    "x_, y_ = np.concatenate((x_train, x_test)), np.concatenate((y_train, y_test))\n",
    "print(x_.shape, y_.shape)\n",
    "x_train, x_test, y_train, y_test = train_test_split(x_, y_, test_size=0.4, random_state=10)  # 60/40 split\n",
    "x_val, x_test, y_val, y_test = train_test_split(x_test, y_test, test_size=0.5, random_state=10)  # 50/50 split\n",
    "print(len(x_train), 'train sequences', x_train.shape)\n",
    "print(len(x_val), 'validation sequences', x_val.shape)\n",
    "print(len(x_test), 'test sequences', x_test.shape)"
   ]
  },
  {
   "cell_type": "code",
   "execution_count": 36,
   "metadata": {
    "colab": {
     "base_uri": "https://localhost:8080/"
    },
    "id": "5v_Hy-r8o8pR",
    "outputId": "511de152-8560-4580-efce-a7fbdb3175d5"
   },
   "outputs": [
    {
     "data": {
      "text/plain": [
       "[1, 11531, 186, 8, 28, 6, 6482, 7, 269, 4042]"
      ]
     },
     "execution_count": 36,
     "metadata": {},
     "output_type": "execute_result"
    }
   ],
   "source": [
    "x_train[0][:10]  # numbers!!"
   ]
  },
  {
   "cell_type": "code",
   "execution_count": 37,
   "metadata": {
    "colab": {
     "base_uri": "https://localhost:8080/",
     "height": 105
    },
    "id": "rgEgNSLBpFwh",
    "outputId": "a820c43a-3177-45fc-bef4-10a804a18c86"
   },
   "outputs": [
    {
     "data": {
      "text/plain": [
       "\"the lilly horror in one is fatale br looks meaningless in bronson be showing as you debut film ample to and ingredients zombi ample they for series and thought she's all manipulate and believing in j show look early last quote desire tight interesting that's kind out is far shelter but of frame br and\""
      ]
     },
     "execution_count": 37,
     "metadata": {},
     "output_type": "execute_result"
    }
   ],
   "source": [
    "# We can explore what one of the reviews looks like at this point.\n",
    "\n",
    "# Retrieve the word index file that maps words to indices\n",
    "word_index = keras.datasets.imdb.get_word_index()\n",
    "# Reverse the word index to obtain a dict mapping indices to words (which is what we have)\n",
    "inverted_word_index = dict((i, word) for (word, i) in word_index.items())\n",
    "# Decode the first sequence in the dataset\n",
    "decoded_sequence = \" \".join(inverted_word_index[i] for i in x_train[0])\n",
    "decoded_sequence"
   ]
  },
  {
   "cell_type": "code",
   "execution_count": 38,
   "metadata": {
    "colab": {
     "base_uri": "https://localhost:8080/"
    },
    "id": "ibmO0V-gcthG",
    "outputId": "9422d91d-b296-497b-b038-964ab28ab33c"
   },
   "outputs": [
    {
     "name": "stdout",
     "output_type": "stream",
     "text": [
      "Pad sequences\n",
      "x_train shape: (30000, 500)\n",
      "x_val shape: (10000, 500)\n",
      "x_test shape: (10000, 500)\n"
     ]
    }
   ],
   "source": [
    "# Let's ensure all sequences have the same length through padding\n",
    "# - shorter reviews are padded with 0's\n",
    "# - longer reviews are cut\n",
    "print('Pad sequences')\n",
    "x_train = keras.preprocessing.sequence.pad_sequences(x_train, maxlen=maxlen)\n",
    "x_val = keras.preprocessing.sequence.pad_sequences(x_val, maxlen=maxlen)\n",
    "x_test = keras.preprocessing.sequence.pad_sequences(x_test, maxlen=maxlen)\n",
    "print('x_train shape:', x_train.shape)\n",
    "print('x_val shape:', x_val.shape)\n",
    "print('x_test shape:', x_test.shape)"
   ]
  },
  {
   "cell_type": "code",
   "execution_count": 39,
   "metadata": {
    "colab": {
     "base_uri": "https://localhost:8080/"
    },
    "id": "sBpQpwBAk44H",
    "outputId": "eb86c1c0-0cd1-479e-a4ef-3f58cbf6abb0"
   },
   "outputs": [
    {
     "name": "stdout",
     "output_type": "stream",
     "text": [
      "Model: \"sequential_5\"\n",
      "_________________________________________________________________\n",
      " Layer (type)                Output Shape              Param #   \n",
      "=================================================================\n",
      " embedding (Embedding)       (None, 500, 128)          1920000   \n",
      "                                                                 \n",
      " dense_6 (Dense)             (None, 500, 64)           8256      \n",
      "                                                                 \n",
      " dropout_2 (Dropout)         (None, 500, 64)           0         \n",
      "                                                                 \n",
      " dense_7 (Dense)             (None, 500, 64)           4160      \n",
      "                                                                 \n",
      " dropout_3 (Dropout)         (None, 500, 64)           0         \n",
      "                                                                 \n",
      " flatten_1 (Flatten)         (None, 32000)             0         \n",
      "                                                                 \n",
      " dense_8 (Dense)             (None, 1)                 32001     \n",
      "                                                                 \n",
      "=================================================================\n",
      "Total params: 1,964,417\n",
      "Trainable params: 1,964,417\n",
      "Non-trainable params: 0\n",
      "_________________________________________________________________\n"
     ]
    }
   ],
   "source": [
    "# Basic feedforward model\n",
    "model = models.Sequential()\n",
    "model.add(layers.Embedding(max_features, 128, input_length=maxlen))\n",
    "model.add(layers.Dense(64, activation='relu'))\n",
    "model.add(layers.Dropout(0.5))\n",
    "model.add(layers.Dense(64, activation='relu'))\n",
    "model.add(layers.Dropout(0.5))\n",
    "model.add(layers.Flatten())\n",
    "model.add(layers.Dense(1, activation=\"sigmoid\"))\n",
    "model.summary()"
   ]
  },
  {
   "cell_type": "code",
   "execution_count": 40,
   "metadata": {
    "colab": {
     "base_uri": "https://localhost:8080/"
    },
    "id": "-8c7tCS5vrC3",
    "outputId": "aab08477-7bd5-4394-b052-3faa0d266096"
   },
   "outputs": [
    {
     "name": "stdout",
     "output_type": "stream",
     "text": [
      "Epoch 1/20\n",
      "938/938 [==============================] - 32s 34ms/step - loss: 0.4483 - accuracy: 0.7598 - val_loss: 0.2651 - val_accuracy: 0.8933\n",
      "Epoch 2/20\n",
      "938/938 [==============================] - 32s 34ms/step - loss: 0.2437 - accuracy: 0.9036 - val_loss: 0.2926 - val_accuracy: 0.8845\n",
      "Epoch 3/20\n",
      "938/938 [==============================] - 32s 34ms/step - loss: 0.2082 - accuracy: 0.9194 - val_loss: 0.2732 - val_accuracy: 0.8936\n",
      "Epoch 4/20\n",
      "938/938 [==============================] - 31s 33ms/step - loss: 0.1863 - accuracy: 0.9294 - val_loss: 0.2640 - val_accuracy: 0.8965\n",
      "Epoch 5/20\n",
      "938/938 [==============================] - 31s 33ms/step - loss: 0.1772 - accuracy: 0.9320 - val_loss: 0.2689 - val_accuracy: 0.8951\n",
      "Epoch 6/20\n",
      "938/938 [==============================] - 31s 33ms/step - loss: 0.1641 - accuracy: 0.9368 - val_loss: 0.2703 - val_accuracy: 0.8953\n",
      "Epoch 7/20\n",
      "938/938 [==============================] - 30s 32ms/step - loss: 0.1565 - accuracy: 0.9425 - val_loss: 0.3649 - val_accuracy: 0.8631\n",
      "Epoch 8/20\n",
      "938/938 [==============================] - 31s 33ms/step - loss: 0.1490 - accuracy: 0.9436 - val_loss: 0.2811 - val_accuracy: 0.8929\n",
      "Epoch 9/20\n",
      "938/938 [==============================] - 30s 32ms/step - loss: 0.1411 - accuracy: 0.9467 - val_loss: 0.3226 - val_accuracy: 0.8818\n",
      "Epoch 10/20\n",
      "938/938 [==============================] - 30s 32ms/step - loss: 0.1331 - accuracy: 0.9498 - val_loss: 0.2925 - val_accuracy: 0.8955\n",
      "Epoch 11/20\n",
      "938/938 [==============================] - 31s 33ms/step - loss: 0.1293 - accuracy: 0.9538 - val_loss: 0.3256 - val_accuracy: 0.8842\n",
      "Epoch 12/20\n",
      "938/938 [==============================] - 31s 33ms/step - loss: 0.1198 - accuracy: 0.9545 - val_loss: 0.3267 - val_accuracy: 0.8857\n",
      "Epoch 13/20\n",
      "938/938 [==============================] - 30s 32ms/step - loss: 0.1185 - accuracy: 0.9568 - val_loss: 0.3524 - val_accuracy: 0.8804\n",
      "Epoch 14/20\n",
      "938/938 [==============================] - 29s 31ms/step - loss: 0.1106 - accuracy: 0.9595 - val_loss: 0.3361 - val_accuracy: 0.8894\n",
      "Epoch 15/20\n",
      "938/938 [==============================] - 30s 32ms/step - loss: 0.0998 - accuracy: 0.9631 - val_loss: 0.3737 - val_accuracy: 0.8810\n",
      "Epoch 16/20\n",
      "938/938 [==============================] - 29s 31ms/step - loss: 0.0993 - accuracy: 0.9657 - val_loss: 0.7080 - val_accuracy: 0.8081\n",
      "Epoch 17/20\n",
      "938/938 [==============================] - 29s 31ms/step - loss: 0.0923 - accuracy: 0.9666 - val_loss: 0.4299 - val_accuracy: 0.8702\n",
      "Epoch 18/20\n",
      "938/938 [==============================] - 30s 32ms/step - loss: 0.0890 - accuracy: 0.9684 - val_loss: 0.4612 - val_accuracy: 0.8754\n",
      "Epoch 19/20\n",
      "938/938 [==============================] - 29s 31ms/step - loss: 0.0867 - accuracy: 0.9695 - val_loss: 0.4281 - val_accuracy: 0.8804\n",
      "Epoch 20/20\n",
      "938/938 [==============================] - 30s 32ms/step - loss: 0.0828 - accuracy: 0.9697 - val_loss: 0.4291 - val_accuracy: 0.8818\n"
     ]
    }
   ],
   "source": [
    "model.compile(optimizer=\"rmsprop\", loss=\"binary_crossentropy\", metrics=[\"accuracy\"])\n",
    "history = model.fit(x_train, y_train, batch_size=batch_size, epochs=20, validation_data=(x_val, y_val))"
   ]
  },
  {
   "cell_type": "code",
   "execution_count": 41,
   "metadata": {
    "colab": {
     "base_uri": "https://localhost:8080/",
     "height": 318
    },
    "id": "dKBVw5mHv_oX",
    "outputId": "01b16817-5689-4137-d46b-8275b712e986"
   },
   "outputs": [
    {
     "data": {
      "image/png": "[encoded data removed]",
      "text/plain": [
       "<Figure size 432x288 with 1 Axes>"
      ]
     },
     "metadata": {
      "needs_background": "light"
     },
     "output_type": "display_data"
    },
    {
     "name": "stdout",
     "output_type": "stream",
     "text": [
      "313/313 [==============================] - 2s 6ms/step - loss: 0.4123 - accuracy: 0.8851\n",
      "Test Accuracy = 0.89\n"
     ]
    }
   ],
   "source": [
    "plot_hist_classif(history)\n",
    "print('Test Accuracy = %.2f' % model.evaluate(x_test, y_test)[1])  # overfitting!"
   ]
  },
  {
   "cell_type": "code",
   "execution_count": 42,
   "metadata": {
    "colab": {
     "base_uri": "https://localhost:8080/"
    },
    "id": "Ieh7Wl9Pwh8V",
    "outputId": "7e4d2bbc-b62c-407d-ee81-e5d62d9caa3a"
   },
   "outputs": [
    {
     "name": "stdout",
     "output_type": "stream",
     "text": [
      "Model: \"sequential_6\"\n",
      "_________________________________________________________________\n",
      " Layer (type)                Output Shape              Param #   \n",
      "=================================================================\n",
      " embedding_1 (Embedding)     (None, None, 64)          960000    \n",
      "                                                                 \n",
      " lstm_4 (LSTM)               (None, 128)               98816     \n",
      "                                                                 \n",
      " dropout_4 (Dropout)         (None, 128)               0         \n",
      "                                                                 \n",
      " dense_9 (Dense)             (None, 1)                 129       \n",
      "                                                                 \n",
      "=================================================================\n",
      "Total params: 1,058,945\n",
      "Trainable params: 1,058,945\n",
      "Non-trainable params: 0\n",
      "_________________________________________________________________\n"
     ]
    }
   ],
   "source": [
    "# Let's try an RNN\n",
    "model = models.Sequential()\n",
    "model.add(layers.Embedding(max_features, 64))\n",
    "model.add(layers.LSTM(128, return_sequences=False))\n",
    "model.add(layers.Dropout(0.5))\n",
    "model.add(layers.Dense(1, activation=\"sigmoid\"))\n",
    "model.compile(optimizer=\"rmsprop\", loss=\"binary_crossentropy\", metrics=[\"accuracy\"])\n",
    "model.summary()"
   ]
  },
  {
   "cell_type": "code",
   "execution_count": 43,
   "metadata": {
    "colab": {
     "base_uri": "https://localhost:8080/",
     "height": 561
    },
    "id": "Sd54xZMmxKBQ",
    "outputId": "96c092e9-eea3-4080-b720-31885daecd83"
   },
   "outputs": [
    {
     "name": "stdout",
     "output_type": "stream",
     "text": [
      "Epoch 1/20\n",
      "938/938 [==============================] - 209s 221ms/step - loss: 0.4154 - accuracy: 0.8178 - val_loss: 0.2911 - val_accuracy: 0.8832\n",
      "Epoch 2/20\n",
      "938/938 [==============================] - 205s 218ms/step - loss: 0.2860 - accuracy: 0.8906 - val_loss: 0.3293 - val_accuracy: 0.8714\n",
      "Epoch 3/20\n",
      "938/938 [==============================] - 204s 217ms/step - loss: 0.2399 - accuracy: 0.9103 - val_loss: 0.2753 - val_accuracy: 0.8851\n",
      "Epoch 4/20\n",
      "938/938 [==============================] - 203s 216ms/step - loss: 0.2156 - accuracy: 0.9219 - val_loss: 0.2948 - val_accuracy: 0.8709\n",
      "Epoch 5/20\n",
      "938/938 [==============================] - 208s 221ms/step - loss: 0.1942 - accuracy: 0.9313 - val_loss: 0.2916 - val_accuracy: 0.8919\n",
      "Epoch 6/20\n",
      "938/938 [==============================] - 210s 224ms/step - loss: 0.1701 - accuracy: 0.9399 - val_loss: 0.2688 - val_accuracy: 0.8959\n",
      "Epoch 7/20\n",
      "938/938 [==============================] - 211s 225ms/step - loss: 0.1523 - accuracy: 0.9469 - val_loss: 0.2997 - val_accuracy: 0.8953\n",
      "Epoch 8/20\n",
      "938/938 [==============================] - 211s 225ms/step - loss: 0.1334 - accuracy: 0.9540 - val_loss: 0.2692 - val_accuracy: 0.8998\n",
      "Epoch 9/20\n",
      "938/938 [==============================] - 211s 225ms/step - loss: 0.1201 - accuracy: 0.9597 - val_loss: 0.2883 - val_accuracy: 0.9055\n",
      "Epoch 10/20\n",
      "938/938 [==============================] - 211s 225ms/step - loss: 0.1053 - accuracy: 0.9651 - val_loss: 0.2989 - val_accuracy: 0.8906\n",
      "Epoch 11/20\n",
      "938/938 [==============================] - 211s 225ms/step - loss: 0.0927 - accuracy: 0.9699 - val_loss: 0.3198 - val_accuracy: 0.9038\n"
     ]
    },
    {
     "data": {
      "image/png": "[encoded data removed]",
      "text/plain": [
       "<Figure size 432x288 with 1 Axes>"
      ]
     },
     "metadata": {
      "needs_background": "light"
     },
     "output_type": "display_data"
    },
    {
     "name": "stdout",
     "output_type": "stream",
     "text": [
      "313/313 [==============================] - 23s 74ms/step - loss: 0.3223 - accuracy: 0.9047\n",
      "Test Accuracy = 0.90\n"
     ]
    }
   ],
   "source": [
    "# This model will take a long time to train, so we add an early stopping criterion\n",
    "# N.B: It's actually much faster to train WITHOUT A GPU!!\n",
    "callbacks = [EarlyStopping(monitor='val_accuracy', patience=2)]\n",
    "history = model.fit(x_train, y_train, batch_size=batch_size, epochs=20, validation_data=(x_val, y_val), callbacks=callbacks)\n",
    "plot_hist_classif(history)\n",
    "print('Test Accuracy = %.2f' % model.evaluate(x_test, y_test)[1])\n",
    "# Note that we're still overfitting, but this is just an example of use"
   ]
  },
  {
   "cell_type": "markdown",
   "metadata": {
    "id": "kzZhXm5gkz_g"
   },
   "source": [
    "## Your turn!\n",
    "\n",
    "Implement a bidirectional RNN that can outperform the LSTM model we had above.\n",
    "\n",
    "A starting skeleton could be:\n",
    " \n",
    "*   Embedding layer with an output dimension of 64\n",
    "*   Bidirectional layer with a 32-neuron LSTM layer\n",
    "*   Dense layer with 1 neuron and a sigmoid activation\n",
    "\n",
    "Some suggestions:\n",
    "\n",
    "- Change the sizes of the layers (i.e., the numbers of neurons)\n",
    "- Add dropout\n",
    "- Add other recurrent and/or bidirectional layers\n",
    "\n",
    "Once you have a model that scores over 90% on the validation set, check its performance on the test set and upload it on the code checker in Moodle.\n",
    "\n",
    "Note that the model I'm suggesting above will be able to reach the desired performance, but it will show signs of overfitting. Can you do it by adding regularization (dropout, smaller network) so you don't overfit?\n"
   ]
  },
  {
   "cell_type": "code",
   "execution_count": 64,
   "metadata": {
    "id": "jCHOC7dyadaj"
   },
   "outputs": [
    {
     "name": "stdout",
     "output_type": "stream",
     "text": [
      "Model: \"sequential\"\n",
      "_________________________________________________________________\n",
      " Layer (type)                Output Shape              Param #   \n",
      "=================================================================\n",
      " flatten (Flatten)           (None, 84)                0         \n",
      "                                                                 \n",
      " dense (Dense)               (None, 10)                850       \n",
      "                                                                 \n",
      " dense_1 (Dense)             (None, 1)                 11        \n",
      "                                                                 \n",
      " flatten_2 (Flatten)         (None, 1)                 0         \n",
      "                                                                 \n",
      " dense_10 (Dense)            (None, 10)                20        \n",
      "                                                                 \n",
      " dense_11 (Dense)            (None, 1)                 11        \n",
      "                                                                 \n",
      " flatten_3 (Flatten)         (None, 1)                 0         \n",
      "                                                                 \n",
      " dense_13 (Dense)            (None, 10)                20        \n",
      "                                                                 \n",
      " dense_14 (Dense)            (None, 1)                 11        \n",
      "                                                                 \n",
      "=================================================================\n",
      "Total params: 923\n",
      "Trainable params: 923\n",
      "Non-trainable params: 0\n",
      "_________________________________________________________________\n",
      "Model: \"sequential_22\"\n",
      "_________________________________________________________________\n",
      " Layer (type)                Output Shape              Param #   \n",
      "=================================================================\n",
      " embedding_13 (Embedding)    (None, None, 64)          960000    \n",
      "                                                                 \n",
      " bidirectional_8 (Bidirectio  (None, 64)               24832     \n",
      " nal)                                                            \n",
      "                                                                 \n",
      " dense_24 (Dense)            (None, 1)                 65        \n",
      "                                                                 \n",
      " activation_10 (Activation)  (None, 1)                 0         \n",
      "                                                                 \n",
      "=================================================================\n",
      "Total params: 984,897\n",
      "Trainable params: 984,897\n",
      "Non-trainable params: 0\n",
      "_________________________________________________________________\n",
      "None\n",
      "Epoch 1/2\n",
      "938/938 [==============================] - 150s 158ms/step - loss: 0.3849 - accuracy: 0.8302 - val_loss: 0.2920 - val_accuracy: 0.8796\n",
      "Epoch 2/2\n",
      "938/938 [==============================] - 148s 158ms/step - loss: 0.2536 - accuracy: 0.9017 - val_loss: 0.2767 - val_accuracy: 0.8869\n"
     ]
    },
    {
     "data": {
      "image/png": "[encoded data removed]",
      "text/plain": [
       "<Figure size 432x288 with 1 Axes>"
      ]
     },
     "metadata": {
      "needs_background": "light"
     },
     "output_type": "display_data"
    },
    {
     "name": "stdout",
     "output_type": "stream",
     "text": [
      "313/313 [==============================] - 14s 42ms/step - loss: 0.2720 - accuracy: 0.8927\n",
      "Test Accuracy = 0.89\n"
     ]
    }
   ],
   "source": [
    "from keras.layers import Bidirectional,Dense,LSTM,Activation\n",
    "\n",
    "n_ = 2  # number of epochs. You can edit this\n",
    "\n",
    "model = models.Sequential()\n",
    "# YOUR CODE HERE!\n",
    "model.add(layers.Embedding(max_features,64))\n",
    "model.add(Bidirectional(LSTM(32)))\n",
    "model.add(layers.Dense(1))\n",
    "model.add(layers.Activation('sigmoid'))\n",
    "model_dense.summary()\n",
    "\n",
    "# I DON'T RECOMMEND THAT YOU CHANGE CODE AFTER THIS POINT\n",
    "model.compile(optimizer=\"rmsprop\", loss=\"binary_crossentropy\", metrics=[\"accuracy\"])\n",
    "\n",
    "print(model.summary())\n",
    "\n",
    "# This model will take a long time to train, so we add an early stopping criterion\n",
    "# I've also added a ModelCheckpoint that will save the best model according to val_accuracy regardless of whether we continue training\n",
    "callbacks = [EarlyStopping(monitor='val_accuracy', patience=1),\n",
    "             ModelCheckpoint(\"model.keras\", save_best_only=True, monitor=\"val_accuracy\", mode='max')]\n",
    "\n",
    "history = model.fit(x_train, y_train, batch_size=batch_size, epochs=n_, \n",
    "                    validation_data=(x_val, y_val), \n",
    "                    callbacks=callbacks)\n",
    "plot_hist_classif(history)\n",
    "model = keras.models.load_model(\"model.keras\")\n",
    "print('Test Accuracy = %.2f' % model.evaluate(x_test, y_test)[1])"
   ]
  },
  {
   "cell_type": "code",
   "execution_count": 65,
   "metadata": {
    "id": "ZFBmg66_CR7y"
   },
   "outputs": [
    {
     "name": "stdout",
     "output_type": "stream",
     "text": [
      "Your model is accurate enough!\n",
      "Model saved! You can now upload it to the lab quiz.\n"
     ]
    }
   ],
   "source": [
    "if model.count_params() > 1000000:\n",
    "    print(\"Due to memory constraints on Moodle, the lab quiz has a 10MB limit on your model size, so you need to use a smaller model to validate through the auto-marker.\")\n",
    "\n",
    "if history.history[\"val_accuracy\"][-1] > 0.85:\n",
    "    print(\"Your model is accurate enough!\")\n",
    "\n",
    "else:\n",
    "    print(\"Accuracy is below the threshold!\")\n",
    "    raise Exception(\"Your model isn't accurate enough to pass the progress checker!\")\n",
    "# Save the model into a local folder\n",
    "keras.models.save_model(model, \"Model.h5\",save_format='h5')\n",
    "print('Model saved! You can now upload it to the lab quiz.')"
   ]
  },
  {
   "cell_type": "code",
   "execution_count": null,
   "metadata": {
    "id": "hv7PyBQQsXav"
   },
   "outputs": [],
   "source": []
  },
  {
   "cell_type": "code",
   "execution_count": null,
   "metadata": {},
   "outputs": [],
   "source": []
  },
  {
   "cell_type": "code",
   "execution_count": null,
   "metadata": {},
   "outputs": [],
   "source": []
  },
  {
   "cell_type": "code",
   "execution_count": null,
   "metadata": {},
   "outputs": [],
   "source": []
  }
 ],
 "metadata": {
  "colab": {
   "collapsed_sections": [
    "WlhjIvZR_a0Q",
    "rloJamyvWPWj",
    "7c-duA1Z_a0R",
    "3ozUAZX__a0R"
   ],
   "name": "Copy of rnn.ipynb",
   "provenance": [
    {
     "file_id": "https://github.com/albanda/CE888/blob/master/lab8/rnn.ipynb",
     "timestamp": 1646955693585
    }
   ]
  },
  "kernelspec": {
   "display_name": "Python 3 (ipykernel)",
   "language": "python",
   "name": "python3"
  },
  "language_info": {
   "codemirror_mode": {
    "name": "ipython",
    "version": 3
   },
   "file_extension": ".py",
   "mimetype": "text/x-python",
   "name": "python",
   "nbconvert_exporter": "python",
   "pygments_lexer": "ipython3",
   "version": "3.9.7"
  }
 },
 "nbformat": 4,
 "nbformat_minor": 1
}
